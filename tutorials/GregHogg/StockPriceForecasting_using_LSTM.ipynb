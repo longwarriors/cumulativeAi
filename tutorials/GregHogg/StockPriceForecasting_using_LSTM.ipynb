{
 "cells": [
  {
   "metadata": {
    "ExecuteTime": {
     "end_time": "2025-04-20T04:08:42.417638Z",
     "start_time": "2025-04-20T04:08:40.676420Z"
    }
   },
   "cell_type": "code",
   "source": [
    "\"\"\"下载股票tabular data\"\"\"\n",
    "import os\n",
    "import yfinance as yf\n",
    "from datetime import datetime\n",
    "\n",
    "msft = yf.Ticker(\"MSFT\")\n",
    "t0 = datetime(1986, 3, 13).strftime('%Y-%m-%d')  # 微软IPO日期\n",
    "t1 = datetime(2022, 3, 24).strftime('%Y-%m-%d')  # 今天的日期，格式为YYYY-MM-DD\n",
    "print(f\"下载MSFT从 {t0} 到 {t1} 的股票数据\")\n",
    "hist_data = msft.history(start=t0, end=t1, interval=\"1d\")\n",
    "print(hist_data.tail(10))\n",
    "# 保存到CSV文件\n",
    "DATA_DIR = '../../data/'\n",
    "csv_filename = f\"MSFT_from_{t0.replace('-', '')}_to_{t1.replace('-', '')}.csv\"\n",
    "print(f\"保存数据表格名：{csv_filename}\")\n",
    "hist_data.to_csv(os.path.join(DATA_DIR, csv_filename))"
   ],
   "id": "90cc44eb094c5bd2",
   "outputs": [
    {
     "name": "stdout",
     "output_type": "stream",
     "text": [
      "下载MSFT从 1986-03-13 到 2022-03-24 的股票数据\n",
      "                                 Open        High         Low       Close  \\\n",
      "Date                                                                        \n",
      "2022-03-10 00:00:00-05:00  275.882652  279.372387  273.504183  278.387848   \n",
      "2022-03-11 00:00:00-05:00  280.698060  282.208989  272.383175  273.007050   \n",
      "2022-03-14 00:00:00-04:00  273.270239  278.202631  268.864238  269.468597   \n",
      "2022-03-15 00:00:00-04:00  273.280006  280.561625  271.700865  279.908508   \n",
      "2022-03-16 00:00:00-04:00  281.819067  287.141396  276.058135  286.965942   \n",
      "2022-03-17 00:00:00-04:00  285.893673  288.155143  282.072516  287.774994   \n",
      "2022-03-18 00:00:00-04:00  287.921185  293.409209  285.347778  292.853577   \n",
      "2022-03-21 00:00:00-04:00  291.352481  292.570958  287.463083  291.615662   \n",
      "2022-03-22 00:00:00-04:00  292.239511  297.308387  291.235487  296.392090   \n",
      "2022-03-23 00:00:00-04:00  292.931613  295.583020  290.211964  291.937317   \n",
      "\n",
      "                             Volume  Dividends  Stock Splits  \n",
      "Date                                                          \n",
      "2022-03-10 00:00:00-05:00  30628000        0.0           0.0  \n",
      "2022-03-11 00:00:00-05:00  27209300        0.0           0.0  \n",
      "2022-03-14 00:00:00-04:00  30660700        0.0           0.0  \n",
      "2022-03-15 00:00:00-04:00  34245100        0.0           0.0  \n",
      "2022-03-16 00:00:00-04:00  37826300        0.0           0.0  \n",
      "2022-03-17 00:00:00-04:00  30816600        0.0           0.0  \n",
      "2022-03-18 00:00:00-04:00  43390600        0.0           0.0  \n",
      "2022-03-21 00:00:00-04:00  28351200        0.0           0.0  \n",
      "2022-03-22 00:00:00-04:00  27599700        0.0           0.0  \n",
      "2022-03-23 00:00:00-04:00  25715400        0.0           0.0  \n",
      "保存数据表格名：MSFT_from_19860313_to_20220324.csv\n"
     ]
    }
   ],
   "execution_count": 54
  },
  {
   "cell_type": "code",
   "id": "initial_id",
   "metadata": {
    "collapsed": true,
    "ExecuteTime": {
     "end_time": "2025-04-20T07:43:18.008230Z",
     "start_time": "2025-04-20T07:43:17.884897Z"
    }
   },
   "source": [
    "# https://www.youtube.com/watch?v=CbTU92pbDKw\n",
    "import pandas as pd\n",
    "df = pd.read_csv('../../data/MSFT_from_19860313_to_20220324.csv')\n",
    "df.loc[:, 'Date'] = pd.to_datetime(df['Date'], utc=True).dt.strftime('%Y-%m-%d')\n",
    "df.tail()"
   ],
   "outputs": [
    {
     "data": {
      "text/plain": [
       "            Date        Open        High         Low       Close    Volume  \\\n",
       "9077  2022-03-17  285.893673  288.155143  282.072516  287.774994  30816600   \n",
       "9078  2022-03-18  287.921185  293.409209  285.347778  292.853577  43390600   \n",
       "9079  2022-03-21  291.352481  292.570958  287.463083  291.615662  28351200   \n",
       "9080  2022-03-22  292.239511  297.308387  291.235487  296.392090  27599700   \n",
       "9081  2022-03-23  292.931613  295.583020  290.211964  291.937317  25715400   \n",
       "\n",
       "      Dividends  Stock Splits  \n",
       "9077        0.0           0.0  \n",
       "9078        0.0           0.0  \n",
       "9079        0.0           0.0  \n",
       "9080        0.0           0.0  \n",
       "9081        0.0           0.0  "
      ],
      "text/html": [
       "<div>\n",
       "<style scoped>\n",
       "    .dataframe tbody tr th:only-of-type {\n",
       "        vertical-align: middle;\n",
       "    }\n",
       "\n",
       "    .dataframe tbody tr th {\n",
       "        vertical-align: top;\n",
       "    }\n",
       "\n",
       "    .dataframe thead th {\n",
       "        text-align: right;\n",
       "    }\n",
       "</style>\n",
       "<table border=\"1\" class=\"dataframe\">\n",
       "  <thead>\n",
       "    <tr style=\"text-align: right;\">\n",
       "      <th></th>\n",
       "      <th>Date</th>\n",
       "      <th>Open</th>\n",
       "      <th>High</th>\n",
       "      <th>Low</th>\n",
       "      <th>Close</th>\n",
       "      <th>Volume</th>\n",
       "      <th>Dividends</th>\n",
       "      <th>Stock Splits</th>\n",
       "    </tr>\n",
       "  </thead>\n",
       "  <tbody>\n",
       "    <tr>\n",
       "      <th>9077</th>\n",
       "      <td>2022-03-17</td>\n",
       "      <td>285.893673</td>\n",
       "      <td>288.155143</td>\n",
       "      <td>282.072516</td>\n",
       "      <td>287.774994</td>\n",
       "      <td>30816600</td>\n",
       "      <td>0.0</td>\n",
       "      <td>0.0</td>\n",
       "    </tr>\n",
       "    <tr>\n",
       "      <th>9078</th>\n",
       "      <td>2022-03-18</td>\n",
       "      <td>287.921185</td>\n",
       "      <td>293.409209</td>\n",
       "      <td>285.347778</td>\n",
       "      <td>292.853577</td>\n",
       "      <td>43390600</td>\n",
       "      <td>0.0</td>\n",
       "      <td>0.0</td>\n",
       "    </tr>\n",
       "    <tr>\n",
       "      <th>9079</th>\n",
       "      <td>2022-03-21</td>\n",
       "      <td>291.352481</td>\n",
       "      <td>292.570958</td>\n",
       "      <td>287.463083</td>\n",
       "      <td>291.615662</td>\n",
       "      <td>28351200</td>\n",
       "      <td>0.0</td>\n",
       "      <td>0.0</td>\n",
       "    </tr>\n",
       "    <tr>\n",
       "      <th>9080</th>\n",
       "      <td>2022-03-22</td>\n",
       "      <td>292.239511</td>\n",
       "      <td>297.308387</td>\n",
       "      <td>291.235487</td>\n",
       "      <td>296.392090</td>\n",
       "      <td>27599700</td>\n",
       "      <td>0.0</td>\n",
       "      <td>0.0</td>\n",
       "    </tr>\n",
       "    <tr>\n",
       "      <th>9081</th>\n",
       "      <td>2022-03-23</td>\n",
       "      <td>292.931613</td>\n",
       "      <td>295.583020</td>\n",
       "      <td>290.211964</td>\n",
       "      <td>291.937317</td>\n",
       "      <td>25715400</td>\n",
       "      <td>0.0</td>\n",
       "      <td>0.0</td>\n",
       "    </tr>\n",
       "  </tbody>\n",
       "</table>\n",
       "</div>"
      ]
     },
     "execution_count": 1,
     "metadata": {},
     "output_type": "execute_result"
    }
   ],
   "execution_count": 1
  },
  {
   "metadata": {
    "ExecuteTime": {
     "end_time": "2025-04-20T07:52:27.608725Z",
     "start_time": "2025-04-20T07:52:27.601360Z"
    }
   },
   "cell_type": "code",
   "source": [
    "price_df = df[['Date', 'Close']]\n",
    "price_df.index = price_df.pop('Date')\n",
    "price_df.head()"
   ],
   "id": "7def0ce19788250",
   "outputs": [
    {
     "data": {
      "text/plain": [
       "               Close\n",
       "Date                \n",
       "1986-03-13  0.059707\n",
       "1986-03-14  0.061839\n",
       "1986-03-17  0.062906\n",
       "1986-03-18  0.061306\n",
       "1986-03-19  0.060240"
      ],
      "text/html": [
       "<div>\n",
       "<style scoped>\n",
       "    .dataframe tbody tr th:only-of-type {\n",
       "        vertical-align: middle;\n",
       "    }\n",
       "\n",
       "    .dataframe tbody tr th {\n",
       "        vertical-align: top;\n",
       "    }\n",
       "\n",
       "    .dataframe thead th {\n",
       "        text-align: right;\n",
       "    }\n",
       "</style>\n",
       "<table border=\"1\" class=\"dataframe\">\n",
       "  <thead>\n",
       "    <tr style=\"text-align: right;\">\n",
       "      <th></th>\n",
       "      <th>Close</th>\n",
       "    </tr>\n",
       "    <tr>\n",
       "      <th>Date</th>\n",
       "      <th></th>\n",
       "    </tr>\n",
       "  </thead>\n",
       "  <tbody>\n",
       "    <tr>\n",
       "      <th>1986-03-13</th>\n",
       "      <td>0.059707</td>\n",
       "    </tr>\n",
       "    <tr>\n",
       "      <th>1986-03-14</th>\n",
       "      <td>0.061839</td>\n",
       "    </tr>\n",
       "    <tr>\n",
       "      <th>1986-03-17</th>\n",
       "      <td>0.062906</td>\n",
       "    </tr>\n",
       "    <tr>\n",
       "      <th>1986-03-18</th>\n",
       "      <td>0.061306</td>\n",
       "    </tr>\n",
       "    <tr>\n",
       "      <th>1986-03-19</th>\n",
       "      <td>0.060240</td>\n",
       "    </tr>\n",
       "  </tbody>\n",
       "</table>\n",
       "</div>"
      ]
     },
     "execution_count": 2,
     "metadata": {},
     "output_type": "execute_result"
    }
   ],
   "execution_count": 2
  },
  {
   "metadata": {
    "ExecuteTime": {
     "end_time": "2025-04-20T07:58:06.666390Z",
     "start_time": "2025-04-20T07:57:19.785600Z"
    }
   },
   "cell_type": "code",
   "source": [
    "import matplotlib.pyplot as plt\n",
    "\n",
    "plt.figure(figsize=(10, 5))\n",
    "plt.plot(price_df.index, price_df['Close'], label='MSFT')\n",
    "plt.show()"
   ],
   "id": "a16c72aa9c3a5441",
   "outputs": [
    {
     "data": {
      "text/plain": [
       "<Figure size 1000x500 with 1 Axes>"
      ],
      "image/png": "[encoded data removed]"
     },
     "metadata": {},
     "output_type": "display_data"
    }
   ],
   "execution_count": 6
  },
  {
   "metadata": {
    "ExecuteTime": {
     "end_time": "2025-04-20T04:26:33.078691Z",
     "start_time": "2025-04-20T04:26:33.058362Z"
    }
   },
   "cell_type": "code",
   "source": "",
   "id": "d9001ed875845972",
   "outputs": [
    {
     "name": "stderr",
     "output_type": "stream",
     "text": [
      "C:\\Users\\SchrodingerFeiFei\\AppData\\Local\\Temp\\ipykernel_31192\\3258983683.py:1: SettingWithCopyWarning: \n",
      "A value is trying to be set on a copy of a slice from a DataFrame.\n",
      "Try using .loc[row_indexer,col_indexer] = value instead\n",
      "\n",
      "See the caveats in the documentation: https://pandas.pydata.org/pandas-docs/stable/user_guide/indexing.html#returning-a-view-versus-a-copy\n",
      "  price_df['Date'] = price_df['Date'].apply(lambda x: x.to_pydatetime())\n"
     ]
    },
    {
     "data": {
      "text/plain": [
       "Timestamp('1986-03-13 00:00:00')"
      ]
     },
     "execution_count": 70,
     "metadata": {},
     "output_type": "execute_result"
    }
   ],
   "execution_count": 70
  },
  {
   "metadata": {},
   "cell_type": "code",
   "outputs": [],
   "execution_count": null,
   "source": "",
   "id": "a2b325e5024fb1db"
  }
 ],
 "metadata": {
  "kernelspec": {
   "display_name": "Python 3",
   "language": "python",
   "name": "python3"
  },
  "language_info": {
   "codemirror_mode": {
    "name": "ipython",
    "version": 2
   },
   "file_extension": ".py",
   "mimetype": "text/x-python",
   "name": "python",
   "nbconvert_exporter": "python",
   "pygments_lexer": "ipython2",
   "version": "2.7.6"
  }
 },
 "nbformat": 4,
 "nbformat_minor": 5
}
