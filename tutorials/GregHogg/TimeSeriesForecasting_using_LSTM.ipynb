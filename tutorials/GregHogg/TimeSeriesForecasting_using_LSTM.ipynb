{
 "cells": [
  {
   "cell_type": "code",
   "id": "initial_id",
   "metadata": {
    "collapsed": true,
    "ExecuteTime": {
     "end_time": "2025-04-17T16:11:18.854564Z",
     "start_time": "2025-04-17T16:11:14.874264Z"
    }
   },
   "source": [
    "# https://www.youtube.com/watch?v=q_HS4s1L8UI\n",
    "\n",
    "import pandas as pd\n",
    "import numpy as np\n",
    "import matplotlib.pyplot as plt\n",
    "import torch\n",
    "import torch.nn as nn\n",
    "\n",
    "DATA_PATH = '../../data/AMZN.csv'\n",
    "data = pd.read_csv(DATA_PATH)\n",
    "data.info()"
   ],
   "outputs": [
    {
     "name": "stdout",
     "output_type": "stream",
     "text": [
      "<class 'pandas.core.frame.DataFrame'>\n",
      "RangeIndex: 6516 entries, 0 to 6515\n",
      "Data columns (total 7 columns):\n",
      " #   Column     Non-Null Count  Dtype  \n",
      "---  ------     --------------  -----  \n",
      " 0   Date       6516 non-null   object \n",
      " 1   Open       6516 non-null   float64\n",
      " 2   High       6516 non-null   float64\n",
      " 3   Low        6516 non-null   float64\n",
      " 4   Close      6516 non-null   float64\n",
      " 5   Adj Close  6516 non-null   float64\n",
      " 6   Volume     6516 non-null   int64  \n",
      "dtypes: float64(5), int64(1), object(1)\n",
      "memory usage: 356.5+ KB\n"
     ]
    }
   ],
   "execution_count": 1
  },
  {
   "metadata": {
    "ExecuteTime": {
     "end_time": "2025-04-17T16:11:34.009596Z",
     "start_time": "2025-04-17T16:11:33.992182Z"
    }
   },
   "cell_type": "code",
   "source": "data.tail()",
   "id": "82ede3530b0aa04f",
   "outputs": [
    {
     "data": {
      "text/plain": [
       "            Date        Open        High         Low       Close   Adj Close  \\\n",
       "6511  2023-03-30  101.550003  103.040001  101.010002  102.000000  102.000000   \n",
       "6512  2023-03-31  102.160004  103.489998  101.949997  103.290001  103.290001   \n",
       "6513  2023-04-03  102.300003  103.290001  101.430000  102.410004  102.410004   \n",
       "6514  2023-04-04  102.750000  104.199997  102.110001  103.949997  103.949997   \n",
       "6515  2023-04-05  103.910004  103.910004  100.750000  101.099998  101.099998   \n",
       "\n",
       "        Volume  \n",
       "6511  53633400  \n",
       "6512  56704300  \n",
       "6513  41135700  \n",
       "6514  48662500  \n",
       "6515  45103000  "
      ],
      "text/html": [
       "<div>\n",
       "<style scoped>\n",
       "    .dataframe tbody tr th:only-of-type {\n",
       "        vertical-align: middle;\n",
       "    }\n",
       "\n",
       "    .dataframe tbody tr th {\n",
       "        vertical-align: top;\n",
       "    }\n",
       "\n",
       "    .dataframe thead th {\n",
       "        text-align: right;\n",
       "    }\n",
       "</style>\n",
       "<table border=\"1\" class=\"dataframe\">\n",
       "  <thead>\n",
       "    <tr style=\"text-align: right;\">\n",
       "      <th></th>\n",
       "      <th>Date</th>\n",
       "      <th>Open</th>\n",
       "      <th>High</th>\n",
       "      <th>Low</th>\n",
       "      <th>Close</th>\n",
       "      <th>Adj Close</th>\n",
       "      <th>Volume</th>\n",
       "    </tr>\n",
       "  </thead>\n",
       "  <tbody>\n",
       "    <tr>\n",
       "      <th>6511</th>\n",
       "      <td>2023-03-30</td>\n",
       "      <td>101.550003</td>\n",
       "      <td>103.040001</td>\n",
       "      <td>101.010002</td>\n",
       "      <td>102.000000</td>\n",
       "      <td>102.000000</td>\n",
       "      <td>53633400</td>\n",
       "    </tr>\n",
       "    <tr>\n",
       "      <th>6512</th>\n",
       "      <td>2023-03-31</td>\n",
       "      <td>102.160004</td>\n",
       "      <td>103.489998</td>\n",
       "      <td>101.949997</td>\n",
       "      <td>103.290001</td>\n",
       "      <td>103.290001</td>\n",
       "      <td>56704300</td>\n",
       "    </tr>\n",
       "    <tr>\n",
       "      <th>6513</th>\n",
       "      <td>2023-04-03</td>\n",
       "      <td>102.300003</td>\n",
       "      <td>103.290001</td>\n",
       "      <td>101.430000</td>\n",
       "      <td>102.410004</td>\n",
       "      <td>102.410004</td>\n",
       "      <td>41135700</td>\n",
       "    </tr>\n",
       "    <tr>\n",
       "      <th>6514</th>\n",
       "      <td>2023-04-04</td>\n",
       "      <td>102.750000</td>\n",
       "      <td>104.199997</td>\n",
       "      <td>102.110001</td>\n",
       "      <td>103.949997</td>\n",
       "      <td>103.949997</td>\n",
       "      <td>48662500</td>\n",
       "    </tr>\n",
       "    <tr>\n",
       "      <th>6515</th>\n",
       "      <td>2023-04-05</td>\n",
       "      <td>103.910004</td>\n",
       "      <td>103.910004</td>\n",
       "      <td>100.750000</td>\n",
       "      <td>101.099998</td>\n",
       "      <td>101.099998</td>\n",
       "      <td>45103000</td>\n",
       "    </tr>\n",
       "  </tbody>\n",
       "</table>\n",
       "</div>"
      ]
     },
     "execution_count": 2,
     "metadata": {},
     "output_type": "execute_result"
    }
   ],
   "execution_count": 2
  },
  {
   "metadata": {
    "ExecuteTime": {
     "end_time": "2025-04-17T16:24:13.480356Z",
     "start_time": "2025-04-17T16:24:13.473781Z"
    }
   },
   "cell_type": "code",
   "source": [
    "df = data[['Date','Close']].copy()\n",
    "df.head()"
   ],
   "id": "60316d6661ac1aec",
   "outputs": [
    {
     "data": {
      "text/plain": [
       "         Date     Close\n",
       "0  1997-05-15  0.097917\n",
       "1  1997-05-16  0.086458\n",
       "2  1997-05-19  0.085417\n",
       "3  1997-05-20  0.081771\n",
       "4  1997-05-21  0.071354"
      ],
      "text/html": [
       "<div>\n",
       "<style scoped>\n",
       "    .dataframe tbody tr th:only-of-type {\n",
       "        vertical-align: middle;\n",
       "    }\n",
       "\n",
       "    .dataframe tbody tr th {\n",
       "        vertical-align: top;\n",
       "    }\n",
       "\n",
       "    .dataframe thead th {\n",
       "        text-align: right;\n",
       "    }\n",
       "</style>\n",
       "<table border=\"1\" class=\"dataframe\">\n",
       "  <thead>\n",
       "    <tr style=\"text-align: right;\">\n",
       "      <th></th>\n",
       "      <th>Date</th>\n",
       "      <th>Close</th>\n",
       "    </tr>\n",
       "  </thead>\n",
       "  <tbody>\n",
       "    <tr>\n",
       "      <th>0</th>\n",
       "      <td>1997-05-15</td>\n",
       "      <td>0.097917</td>\n",
       "    </tr>\n",
       "    <tr>\n",
       "      <th>1</th>\n",
       "      <td>1997-05-16</td>\n",
       "      <td>0.086458</td>\n",
       "    </tr>\n",
       "    <tr>\n",
       "      <th>2</th>\n",
       "      <td>1997-05-19</td>\n",
       "      <td>0.085417</td>\n",
       "    </tr>\n",
       "    <tr>\n",
       "      <th>3</th>\n",
       "      <td>1997-05-20</td>\n",
       "      <td>0.081771</td>\n",
       "    </tr>\n",
       "    <tr>\n",
       "      <th>4</th>\n",
       "      <td>1997-05-21</td>\n",
       "      <td>0.071354</td>\n",
       "    </tr>\n",
       "  </tbody>\n",
       "</table>\n",
       "</div>"
      ]
     },
     "execution_count": 8,
     "metadata": {},
     "output_type": "execute_result"
    }
   ],
   "execution_count": 8
  },
  {
   "metadata": {
    "ExecuteTime": {
     "end_time": "2025-04-17T16:20:15.906834Z",
     "start_time": "2025-04-17T16:20:15.876629Z"
    }
   },
   "cell_type": "code",
   "source": [
    "DEVICE = torch.device('cuda:0' if torch.cuda.is_available() else 'cpu')\n",
    "DEVICE"
   ],
   "id": "641a6b371fae0f2e",
   "outputs": [
    {
     "data": {
      "text/plain": [
       "device(type='cuda', index=0)"
      ]
     },
     "execution_count": 4,
     "metadata": {},
     "output_type": "execute_result"
    }
   ],
   "execution_count": 4
  },
  {
   "metadata": {
    "ExecuteTime": {
     "end_time": "2025-04-17T16:24:25.263334Z",
     "start_time": "2025-04-17T16:24:25.176470Z"
    }
   },
   "cell_type": "code",
   "source": [
    "df['Date'] = pd.to_datetime(df['Date'])\n",
    "plt.plot(df['Date'], df['Close'])\n",
    "plt.show()"
   ],
   "id": "f2d5ea716bdf7ff6",
   "outputs": [
    {
     "data": {
      "text/plain": [
       "<Figure size 640x480 with 1 Axes>"
      ],
      "image/png": "[encoded data removed]"
     },
     "metadata": {},
     "output_type": "display_data"
    }
   ],
   "execution_count": 10
  },
  {
   "metadata": {
    "ExecuteTime": {
     "end_time": "2025-04-17T16:30:25.170772Z",
     "start_time": "2025-04-17T16:30:25.154564Z"
    }
   },
   "cell_type": "code",
   "source": [
    "from copy import deepcopy\n",
    "\n",
    "def prepare_dataframe(input_df, num_steps):\n",
    "    _df = deepcopy(input_df) # 创建输入DataFrame的深拷贝，避免修改原始数据\n",
    "    _df['Date'] = pd.to_datetime(_df['Date'])\n",
    "    _df.set_index('Date', inplace=True)\n",
    "    for s in range(1, num_steps+1):\n",
    "        _df[f'Close(t-{s})'] = _df['Close'].shift(s)\n",
    "    _df.dropna(inplace=True) # 删除包含NaN值的行（由于shift操作，前几行会产生NaN）\n",
    "    return _df\n",
    "\n",
    "lookback = 7\n",
    "shifted_df = prepare_dataframe(df, lookback)\n",
    "shifted_df.head()"
   ],
   "id": "f809581d9e0e46f6",
   "outputs": [
    {
     "data": {
      "text/plain": [
       "               Close  Close(t-1)  Close(t-2)  Close(t-3)  Close(t-4)  \\\n",
       "Date                                                                   \n",
       "1997-05-27  0.079167    0.075000    0.069792    0.071354    0.081771   \n",
       "1997-05-28  0.076563    0.079167    0.075000    0.069792    0.071354   \n",
       "1997-05-29  0.075260    0.076563    0.079167    0.075000    0.069792   \n",
       "1997-05-30  0.075000    0.075260    0.076563    0.079167    0.075000   \n",
       "1997-06-02  0.075521    0.075000    0.075260    0.076563    0.079167   \n",
       "\n",
       "            Close(t-5)  Close(t-6)  Close(t-7)  \n",
       "Date                                            \n",
       "1997-05-27    0.085417    0.086458    0.097917  \n",
       "1997-05-28    0.081771    0.085417    0.086458  \n",
       "1997-05-29    0.071354    0.081771    0.085417  \n",
       "1997-05-30    0.069792    0.071354    0.081771  \n",
       "1997-06-02    0.075000    0.069792    0.071354  "
      ],
      "text/html": [
       "<div>\n",
       "<style scoped>\n",
       "    .dataframe tbody tr th:only-of-type {\n",
       "        vertical-align: middle;\n",
       "    }\n",
       "\n",
       "    .dataframe tbody tr th {\n",
       "        vertical-align: top;\n",
       "    }\n",
       "\n",
       "    .dataframe thead th {\n",
       "        text-align: right;\n",
       "    }\n",
       "</style>\n",
       "<table border=\"1\" class=\"dataframe\">\n",
       "  <thead>\n",
       "    <tr style=\"text-align: right;\">\n",
       "      <th></th>\n",
       "      <th>Close</th>\n",
       "      <th>Close(t-1)</th>\n",
       "      <th>Close(t-2)</th>\n",
       "      <th>Close(t-3)</th>\n",
       "      <th>Close(t-4)</th>\n",
       "      <th>Close(t-5)</th>\n",
       "      <th>Close(t-6)</th>\n",
       "      <th>Close(t-7)</th>\n",
       "    </tr>\n",
       "    <tr>\n",
       "      <th>Date</th>\n",
       "      <th></th>\n",
       "      <th></th>\n",
       "      <th></th>\n",
       "      <th></th>\n",
       "      <th></th>\n",
       "      <th></th>\n",
       "      <th></th>\n",
       "      <th></th>\n",
       "    </tr>\n",
       "  </thead>\n",
       "  <tbody>\n",
       "    <tr>\n",
       "      <th>1997-05-27</th>\n",
       "      <td>0.079167</td>\n",
       "      <td>0.075000</td>\n",
       "      <td>0.069792</td>\n",
       "      <td>0.071354</td>\n",
       "      <td>0.081771</td>\n",
       "      <td>0.085417</td>\n",
       "      <td>0.086458</td>\n",
       "      <td>0.097917</td>\n",
       "    </tr>\n",
       "    <tr>\n",
       "      <th>1997-05-28</th>\n",
       "      <td>0.076563</td>\n",
       "      <td>0.079167</td>\n",
       "      <td>0.075000</td>\n",
       "      <td>0.069792</td>\n",
       "      <td>0.071354</td>\n",
       "      <td>0.081771</td>\n",
       "      <td>0.085417</td>\n",
       "      <td>0.086458</td>\n",
       "    </tr>\n",
       "    <tr>\n",
       "      <th>1997-05-29</th>\n",
       "      <td>0.075260</td>\n",
       "      <td>0.076563</td>\n",
       "      <td>0.079167</td>\n",
       "      <td>0.075000</td>\n",
       "      <td>0.069792</td>\n",
       "      <td>0.071354</td>\n",
       "      <td>0.081771</td>\n",
       "      <td>0.085417</td>\n",
       "    </tr>\n",
       "    <tr>\n",
       "      <th>1997-05-30</th>\n",
       "      <td>0.075000</td>\n",
       "      <td>0.075260</td>\n",
       "      <td>0.076563</td>\n",
       "      <td>0.079167</td>\n",
       "      <td>0.075000</td>\n",
       "      <td>0.069792</td>\n",
       "      <td>0.071354</td>\n",
       "      <td>0.081771</td>\n",
       "    </tr>\n",
       "    <tr>\n",
       "      <th>1997-06-02</th>\n",
       "      <td>0.075521</td>\n",
       "      <td>0.075000</td>\n",
       "      <td>0.075260</td>\n",
       "      <td>0.076563</td>\n",
       "      <td>0.079167</td>\n",
       "      <td>0.075000</td>\n",
       "      <td>0.069792</td>\n",
       "      <td>0.071354</td>\n",
       "    </tr>\n",
       "  </tbody>\n",
       "</table>\n",
       "</div>"
      ]
     },
     "execution_count": 11,
     "metadata": {},
     "output_type": "execute_result"
    }
   ],
   "execution_count": 11
  },
  {
   "metadata": {
    "ExecuteTime": {
     "end_time": "2025-04-17T16:41:14.472247Z",
     "start_time": "2025-04-17T16:41:14.466866Z"
    }
   },
   "cell_type": "code",
   "source": [
    "shifted_df_np = shifted_df.to_numpy()\n",
    "print(shifted_df_np[:5])"
   ],
   "id": "49bbb1d6203f0402",
   "outputs": [
    {
     "name": "stdout",
     "output_type": "stream",
     "text": [
      "[[0.079167 0.075    0.069792 0.071354 0.081771 0.085417 0.086458 0.097917]\n",
      " [0.076563 0.079167 0.075    0.069792 0.071354 0.081771 0.085417 0.086458]\n",
      " [0.07526  0.076563 0.079167 0.075    0.069792 0.071354 0.081771 0.085417]\n",
      " [0.075    0.07526  0.076563 0.079167 0.075    0.069792 0.071354 0.081771]\n",
      " [0.075521 0.075    0.07526  0.076563 0.079167 0.075    0.069792 0.071354]]\n"
     ]
    }
   ],
   "execution_count": 12
  },
  {
   "metadata": {
    "ExecuteTime": {
     "end_time": "2025-04-17T16:44:48.445981Z",
     "start_time": "2025-04-17T16:44:48.287313Z"
    }
   },
   "cell_type": "code",
   "source": [
    "from sklearn.preprocessing import MinMaxScaler\n",
    "scaler = MinMaxScaler(feature_range=(-1, 1))\n",
    "shifted_df_np = scaler.fit_transform(shifted_df_np)\n",
    "print(shifted_df_np[:5])"
   ],
   "id": "10724b1d1baf362b",
   "outputs": [
    {
     "name": "stdout",
     "output_type": "stream",
     "text": [
      "[[-0.99991063 -0.99995531 -1.         -0.99998325 -0.99987154 -0.99983244\n",
      "  -0.99982128 -0.99969839]\n",
      " [-0.99993855 -0.99991063 -0.99994415 -1.         -0.99998325 -0.99987154\n",
      "  -0.99983244 -0.99982128]\n",
      " [-0.99995253 -0.99993855 -0.99989946 -0.99994415 -1.         -0.99998325\n",
      "  -0.99987154 -0.99983244]\n",
      " [-0.99995531 -0.99995253 -0.99992739 -0.99989946 -0.99994415 -1.\n",
      "  -0.99998325 -0.99987154]\n",
      " [-0.99994973 -0.99995531 -0.99994136 -0.99992739 -0.99989946 -0.99994415\n",
      "  -1.         -0.99998325]]\n"
     ]
    }
   ],
   "execution_count": 13
  },
  {
   "metadata": {
    "ExecuteTime": {
     "end_time": "2025-04-17T16:46:59.861530Z",
     "start_time": "2025-04-17T16:46:59.855477Z"
    }
   },
   "cell_type": "code",
   "source": [
    "# features = [Close(t-1), Close(t-2), ..., Close(t-7)]\n",
    "# label = Close\n",
    "x = shifted_df_np[:, 1:]\n",
    "y = shifted_df_np[:, 0]\n",
    "x.shape, y.shape"
   ],
   "id": "783edf9b241c23c6",
   "outputs": [
    {
     "data": {
      "text/plain": [
       "((6509, 7), (6509,))"
      ]
     },
     "execution_count": 16,
     "metadata": {},
     "output_type": "execute_result"
    }
   ],
   "execution_count": 16
  },
  {
   "metadata": {
    "ExecuteTime": {
     "end_time": "2025-04-17T16:50:06.760974Z",
     "start_time": "2025-04-17T16:50:06.755465Z"
    }
   },
   "cell_type": "code",
   "source": [
    "TRAIN_RATIO = 0.95\n",
    "train_size = int(TRAIN_RATIO * x.shape[0])\n",
    "x_train = x[:train_size]\n",
    "x_valid = x[train_size:]\n",
    "y_train = y[:train_size]\n",
    "y_valid = y[train_size:]\n",
    "x_train.shape, y_train.shape, x_valid.shape, y_valid.shape"
   ],
   "id": "1dcce5b8dbe75513",
   "outputs": [
    {
     "data": {
      "text/plain": [
       "((6183, 7), (6183,), (326, 7), (326,))"
      ]
     },
     "execution_count": 18,
     "metadata": {},
     "output_type": "execute_result"
    }
   ],
   "execution_count": 18
  },
  {
   "metadata": {
    "ExecuteTime": {
     "end_time": "2025-04-17T16:53:15.934846Z",
     "start_time": "2025-04-17T16:53:15.929638Z"
    }
   },
   "cell_type": "code",
   "source": [
    "# 适配时间序列模型的输入格式\n",
    "x_train = x_train.reshape(-1, lookback, 1)\n",
    "x_valid = x_valid.reshape(-1, lookback, 1)\n",
    "y_valid = y_valid.reshape(-1, 1)\n",
    "y_train = y_train.reshape(-1, 1)\n",
    "x_train.shape, y_train.shape, x_valid.shape, y_valid.shape"
   ],
   "id": "3274022ab37f04bc",
   "outputs": [
    {
     "data": {
      "text/plain": [
       "((6183, 7, 1), (6183, 1), (326, 7, 1), (326, 1))"
      ]
     },
     "execution_count": 19,
     "metadata": {},
     "output_type": "execute_result"
    }
   ],
   "execution_count": 19
  },
  {
   "metadata": {
    "ExecuteTime": {
     "end_time": "2025-04-17T16:54:36.282370Z",
     "start_time": "2025-04-17T16:54:36.271941Z"
    }
   },
   "cell_type": "code",
   "source": [
    "x_train = torch.as_tensor(x_train).float()\n",
    "y_train = torch.as_tensor(y_train).float()\n",
    "x_valid = torch.as_tensor(x_valid).float()\n",
    "y_valid = torch.as_tensor(y_valid).float()\n",
    "x_train.shape, y_train.shape, x_valid.shape, y_valid.shape"
   ],
   "id": "272e43a4c8997b8",
   "outputs": [
    {
     "data": {
      "text/plain": [
       "(torch.Size([6183, 7, 1]),\n",
       " torch.Size([6183, 1]),\n",
       " torch.Size([326, 7, 1]),\n",
       " torch.Size([326, 1]))"
      ]
     },
     "execution_count": 20,
     "metadata": {},
     "output_type": "execute_result"
    }
   ],
   "execution_count": 20
  },
  {
   "metadata": {
    "ExecuteTime": {
     "end_time": "2025-04-17T16:57:48.853204Z",
     "start_time": "2025-04-17T16:57:48.847690Z"
    }
   },
   "cell_type": "code",
   "source": [
    "from torch.utils.data import DataLoader, Dataset\n",
    "class TimeSeriesDataset(Dataset):\n",
    "    def __init__(self, x, y):\n",
    "        self.x = x\n",
    "        self.y = y\n",
    "\n",
    "    def __len__(self):\n",
    "        return len(self.x)\n",
    "\n",
    "    def __getitem__(self, idx):\n",
    "        return self.x[idx], self.y[idx]\n",
    "\n",
    "train_dataset = TimeSeriesDataset(x_train, y_train)\n",
    "valid_dataset = TimeSeriesDataset(x_valid, y_valid)\n",
    "\n",
    "BATCH_SIZE = 16\n",
    "train_loader = DataLoader(train_dataset, batch_size=BATCH_SIZE, shuffle=True)\n",
    "valid_loader = DataLoader(valid_dataset, batch_size=BATCH_SIZE, shuffle=False)"
   ],
   "id": "893d31871a5eceea",
   "outputs": [],
   "execution_count": 21
  },
  {
   "metadata": {
    "ExecuteTime": {
     "end_time": "2025-04-17T16:58:53.339498Z",
     "start_time": "2025-04-17T16:58:53.333775Z"
    }
   },
   "cell_type": "code",
   "source": [
    "for batch in train_loader:\n",
    "    x_batch, y_batch = batch\n",
    "    print(x_batch.shape, y_batch.shape)\n",
    "    break"
   ],
   "id": "cb96f1d8be2f66c9",
   "outputs": [
    {
     "name": "stdout",
     "output_type": "stream",
     "text": [
      "torch.Size([16, 7, 1]) torch.Size([16, 1])\n"
     ]
    }
   ],
   "execution_count": 22
  },
  {
   "metadata": {
    "ExecuteTime": {
     "end_time": "2025-04-17T17:19:44.834799Z",
     "start_time": "2025-04-17T17:19:44.827232Z"
    }
   },
   "cell_type": "code",
   "source": [
    "# 时间序列模型\n",
    "class LSTM(nn.Module):\n",
    "    def __init__(self, input_size, hidden_size, num_stacked_layers):\n",
    "        super().__init__()\n",
    "        self.hidden_size = hidden_size\n",
    "        self.num_stacked_layers = num_stacked_layers\n",
    "        self.lstm = nn.LSTM(input_size, hidden_size, num_stacked_layers, batch_first=True)\n",
    "        self.fc = nn.Linear(hidden_size, 1)\n",
    "\n",
    "    def forward(self, x):\n",
    "        bsize = x.size(0)\n",
    "        h0 = torch.zeros(self.num_stacked_layers, bsize, self.hidden_size)\n",
    "        c0 = torch.zeros(self.num_stacked_layers, bsize, self.hidden_size)\n",
    "        out, (h, c) = self.lstm(x, (h0, c0)) # out.shape = (batch_size, sequence_length, hidden_size)\n",
    "        # out[:, -1, :]提取每个样本在最后一个时间步的隐藏状态\n",
    "        # out[:, -1, :].shape = (batch_size, hidden_size)\n",
    "        out = self.fc(out[:, -1, :])\n",
    "        return out\n",
    "\n",
    "model = LSTM(1, 4, 1).to(DEVICE)\n",
    "model"
   ],
   "id": "50f18cc49e0b7d30",
   "outputs": [
    {
     "data": {
      "text/plain": [
       "LSTM(\n",
       "  (lstm): LSTM(1, 4, batch_first=True)\n",
       "  (fc): Linear(in_features=4, out_features=1, bias=True)\n",
       ")"
      ]
     },
     "execution_count": 25,
     "metadata": {},
     "output_type": "execute_result"
    }
   ],
   "execution_count": 25
  },
  {
   "metadata": {},
   "cell_type": "code",
   "outputs": [],
   "execution_count": null,
   "source": [
    "def train_one_epoch():\n",
    "    model.train()\n",
    "    print(f'Epoch: {epoch+1}')\n",
    "    running_loss = 0.0\n",
    "    for batch_idx, (x, y) in enumerate(train_loader):\n",
    "        x, y = x.to(DEVICE), y.to(DEVICE)\n",
    "        logits = model(x)\n",
    "        loss = loss_fn(logits, y)\n",
    "        running_loss += loss.item()\n",
    "        optimizer.zero_grad()\n",
    "        loss.backward()\n",
    "        optimizer.step()\n",
    "\n",
    "        if batch_idx % 100 == 99: # print every 100 batches\n",
    "            avg_loss = running_loss / 100\n",
    "            print(f'Batch {batch_idx+1}, loss: {avg_loss:.3f}')\n",
    "            running_loss = 0.0"
   ],
   "id": "6274b14589f572d0"
  },
  {
   "metadata": {},
   "cell_type": "code",
   "outputs": [],
   "execution_count": null,
   "source": [
    "LEARNING_RATE = 1e-3\n",
    "NUM_EPOCHS = 10\n",
    "loss_fn = nn.MSELoss()\n",
    "optimizer = torch.optim.Adam(model.parameters(), lr=LEARNING_RATE)\n",
    "for epoch in range(NUM_EPOCHS):\n",
    "    train_one_epoch()\n",
    "    valid_one_epoch()"
   ],
   "id": "ab811cc48f414cc"
  }
 ],
 "metadata": {
  "kernelspec": {
   "display_name": "Python 3",
   "language": "python",
   "name": "python3"
  },
  "language_info": {
   "codemirror_mode": {
    "name": "ipython",
    "version": 2
   },
   "file_extension": ".py",
   "mimetype": "text/x-python",
   "name": "python",
   "nbconvert_exporter": "python",
   "pygments_lexer": "ipython2",
   "version": "2.7.6"
  }
 },
 "nbformat": 4,
 "nbformat_minor": 5
}
