{
 "cells": [
  {
   "cell_type": "code",
   "id": "initial_id",
   "metadata": {
    "collapsed": true,
    "ExecuteTime": {
     "end_time": "2025-05-23T18:03:27.026549Z",
     "start_time": "2025-05-23T18:03:27.020936Z"
    }
   },
   "source": [
    "import torch\n",
    "import tensorkrowch as tk\n",
    "node_1 = tk.Node(shape=(2, 5, 2),\n",
    "               init_method='randn')\n",
    "print(node_1.shape)\n",
    "print(node_1.tensor)"
   ],
   "outputs": [
    {
     "name": "stdout",
     "output_type": "stream",
     "text": [
      "torch.Size([2, 5, 2])\n",
      "tensor([[[-0.2479, -0.4516],\n",
      "         [ 0.0307, -1.1373],\n",
      "         [ 1.3716, -0.4321],\n",
      "         [-1.8869, -0.3784],\n",
      "         [-1.1732, -1.0061]],\n",
      "\n",
      "        [[ 1.4935, -0.1620],\n",
      "         [ 0.7537,  0.3705],\n",
      "         [ 0.9201,  0.7517],\n",
      "         [-0.5068, -0.0514],\n",
      "         [ 2.1605, -0.2406]]])\n"
     ]
    }
   ],
   "execution_count": 3
  },
  {
   "metadata": {},
   "cell_type": "code",
   "outputs": [],
   "execution_count": null,
   "source": "",
   "id": "2da1249ce490981d"
  }
 ],
 "metadata": {
  "kernelspec": {
   "display_name": "Python 3",
   "language": "python",
   "name": "python3"
  },
  "language_info": {
   "codemirror_mode": {
    "name": "ipython",
    "version": 2
   },
   "file_extension": ".py",
   "mimetype": "text/x-python",
   "name": "python",
   "nbconvert_exporter": "python",
   "pygments_lexer": "ipython2",
   "version": "2.7.6"
  }
 },
 "nbformat": 4,
 "nbformat_minor": 5
}
