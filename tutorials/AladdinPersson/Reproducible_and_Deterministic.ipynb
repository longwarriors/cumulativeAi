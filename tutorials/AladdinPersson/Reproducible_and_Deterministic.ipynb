{
 "cells": [
  {
   "cell_type": "code",
   "id": "initial_id",
   "metadata": {
    "collapsed": true,
    "ExecuteTime": {
     "end_time": "2025-04-20T10:35:22.414024Z",
     "start_time": "2025-04-20T10:35:17.995366Z"
    }
   },
   "source": [
    "# https://www.youtube.com/watch?v=1SZocGaCAr8\n",
    "# 可重复性和确定性\n",
    "\n",
    "import numpy as np\n",
    "import torch\n",
    "import random\n",
    "\n",
    "def set_seed(seed: int = 42):\n",
    "    \"\"\"\n",
    "    Set the seed for random number generation to ensure reproducibility.\n",
    "\n",
    "    Args:\n",
    "        seed (int): The seed value to set.\n",
    "    \"\"\"\n",
    "    # Set the seed for numpy\n",
    "    np.random.seed(seed)\n",
    "    # Set the seed for random\n",
    "    random.seed(seed)\n",
    "    # Set the seed for PyTorch\n",
    "    torch.manual_seed(seed)\n",
    "    # If using a GPU, set the seed for CUDA\n",
    "    if torch.cuda.is_available():\n",
    "        torch.cuda.manual_seed_all(seed)\n",
    "    # Set the seed for CuDNN\n",
    "    torch.backends.cudnn.deterministic = True\n",
    "    torch.backends.cudnn.benchmark = False\n",
    "\n",
    "set_seed()"
   ],
   "outputs": [],
   "execution_count": 1
  },
  {
   "metadata": {
    "ExecuteTime": {
     "end_time": "2025-04-20T10:36:06.348659Z",
     "start_time": "2025-04-20T10:36:06.334226Z"
    }
   },
   "cell_type": "code",
   "source": [
    "x = torch.rand((5, 5))\n",
    "torch.einsum('ii->', x)"
   ],
   "id": "eb5fb51bc0885c5a",
   "outputs": [
    {
     "data": {
      "text/plain": [
       "tensor(2.3801)"
      ]
     },
     "execution_count": 2,
     "metadata": {},
     "output_type": "execute_result"
    }
   ],
   "execution_count": 2
  },
  {
   "metadata": {},
   "cell_type": "code",
   "outputs": [],
   "execution_count": null,
   "source": "",
   "id": "cd6d21716687cc19"
  }
 ],
 "metadata": {
  "kernelspec": {
   "display_name": "Python 3",
   "language": "python",
   "name": "python3"
  },
  "language_info": {
   "codemirror_mode": {
    "name": "ipython",
    "version": 2
   },
   "file_extension": ".py",
   "mimetype": "text/x-python",
   "name": "python",
   "nbconvert_exporter": "python",
   "pygments_lexer": "ipython2",
   "version": "2.7.6"
  }
 },
 "nbformat": 4,
 "nbformat_minor": 5
}
