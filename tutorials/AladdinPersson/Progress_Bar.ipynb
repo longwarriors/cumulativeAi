{
 "cells": [
  {
   "cell_type": "code",
   "id": "initial_id",
   "metadata": {
    "collapsed": true,
    "ExecuteTime": {
     "end_time": "2025-04-20T11:07:58.164103Z",
     "start_time": "2025-04-20T11:07:48.047003Z"
    }
   },
   "source": [
    "# https://www.youtube.com/watch?v=RKHopFfbPao\n",
    "from tqdm import tqdm\n",
    "import time\n",
    "\n",
    "for i in tqdm(range(100)):\n",
    "    time.sleep(0.1)  # 模拟耗时操作"
   ],
   "outputs": [
    {
     "name": "stderr",
     "output_type": "stream",
     "text": [
      "100%|██████████| 100/100 [00:10<00:00,  9.89it/s]\n"
     ]
    }
   ],
   "execution_count": 2
  },
  {
   "metadata": {
    "ExecuteTime": {
     "end_time": "2025-04-19T14:47:09.610570Z",
     "start_time": "2025-04-19T14:47:07.060230Z"
    }
   },
   "cell_type": "code",
   "source": [
    "from tqdm import tqdm\n",
    "\n",
    "for i in tqdm(range(50), desc=\"Training\", ncols=200):\n",
    "    time.sleep(0.05)"
   ],
   "id": "550eae4902abc5f1",
   "outputs": [
    {
     "name": "stderr",
     "output_type": "stream",
     "text": [
      "Training: 100%|█████████████████████████████████████████████████████████████████████████████████████████████████████████████████████████████████████████████████████████| 50/50 [00:02<00:00, 19.68it/s]\n"
     ]
    }
   ],
   "execution_count": 5
  },
  {
   "metadata": {
    "ExecuteTime": {
     "end_time": "2025-04-19T14:50:42.663539Z",
     "start_time": "2025-04-19T14:50:37.508241Z"
    }
   },
   "cell_type": "code",
   "source": [
    "with tqdm(range(100), desc=\"Batch\") as pbar:\n",
    "    for i in pbar:\n",
    "        time.sleep(0.05)\n",
    "        loss = 0.01 * i\n",
    "        acc = 100 - 0.1 * i\n",
    "        pbar.set_postfix({\"Loss\": f\"{loss:.4f}\",\n",
    "                          \"Acc\": f\"{acc:.2f}%\"})\n"
   ],
   "id": "355b90b54a46c76c",
   "outputs": [
    {
     "name": "stderr",
     "output_type": "stream",
     "text": [
      "Batch: 100%|██████████| 100/100 [00:05<00:00, 19.43it/s, Loss=0.9900, Acc=90.10%]\n"
     ]
    }
   ],
   "execution_count": 7
  },
  {
   "metadata": {
    "ExecuteTime": {
     "end_time": "2025-04-19T17:51:47.373423Z",
     "start_time": "2025-04-19T17:51:45.436655Z"
    }
   },
   "cell_type": "code",
   "source": [
    "# 多进度条嵌套\n",
    "from tqdm import trange  #  trange = tqdm(range(...))\n",
    "\n",
    "for epoch in trange(3, desc=\"Epochs\", leave=True):\n",
    "    for batch in trange(6, desc=\"Batches\", leave=False):\n",
    "        time.sleep(0.1)\n",
    "        tqdm.write(f\"Epoch {epoch}, Batch {batch}\")  # 使用tqdm.write替代print\n"
   ],
   "id": "7c4536dfa8c959b7",
   "outputs": [
    {
     "name": "stderr",
     "output_type": "stream",
     "text": [
      "Epochs:   0%|          | 0/3 [00:00<?, ?it/s]\n",
      "Batches:   0%|          | 0/6 [00:00<?, ?it/s]\u001B[A\n",
      "                                              \r\n",
      "Epochs:   0%|          | 0/3 [00:00<?, ?it/s]]\u001B[A\n",
      "Batches:  17%|█▋        | 1/6 [00:00<00:00,  9.59it/s]\u001B[A\n",
      "                                                      \r\n",
      "Epochs:   0%|          | 0/3 [00:00<?, ?it/s]9.59it/s]\u001B[A\n",
      "Batches:  33%|███▎      | 2/6 [00:00<00:00,  9.50it/s]\u001B[A"
     ]
    },
    {
     "name": "stdout",
     "output_type": "stream",
     "text": [
      "Epoch 0, Batch 0\n",
      "Epoch 0, Batch 1\n"
     ]
    },
    {
     "name": "stderr",
     "output_type": "stream",
     "text": [
      "\n",
      "                                                      \r\n",
      "Epochs:   0%|          | 0/3 [00:00<?, ?it/s]9.50it/s]\u001B[A\n",
      "Batches:  50%|█████     | 3/6 [00:00<00:00,  9.46it/s]\u001B[A\n",
      "                                                      \r\n",
      "Epochs:   0%|          | 0/3 [00:00<?, ?it/s]9.46it/s]\u001B[A\n",
      "Batches:  67%|██████▋   | 4/6 [00:00<00:00,  9.41it/s]\u001B[A"
     ]
    },
    {
     "name": "stdout",
     "output_type": "stream",
     "text": [
      "Epoch 0, Batch 2\n",
      "Epoch 0, Batch 3\n"
     ]
    },
    {
     "name": "stderr",
     "output_type": "stream",
     "text": [
      "\n",
      "                                                      \r\n",
      "Epochs:   0%|          | 0/3 [00:00<?, ?it/s]9.41it/s]\u001B[A\n",
      "Batches:  83%|████████▎ | 5/6 [00:00<00:00,  9.41it/s]\u001B[A\n",
      "                                                      \r\n",
      "Epochs:   0%|          | 0/3 [00:00<?, ?it/s]9.41it/s]\u001B[A\n",
      "Batches: 100%|██████████| 6/6 [00:00<00:00,  9.41it/s]\u001B[A\n",
      "Epochs:  33%|███▎      | 1/3 [00:00<00:01,  1.56it/s] \u001B[A"
     ]
    },
    {
     "name": "stdout",
     "output_type": "stream",
     "text": [
      "Epoch 0, Batch 4\n",
      "Epoch 0, Batch 5\n"
     ]
    },
    {
     "name": "stderr",
     "output_type": "stream",
     "text": [
      "\n",
      "Batches:   0%|          | 0/6 [00:00<?, ?it/s]\u001B[A\n",
      "                                                     \r\n",
      "Epochs:  33%|███▎      | 1/3 [00:00<00:01,  1.56it/s]\n",
      "Batches:  17%|█▋        | 1/6 [00:00<00:00,  9.51it/s]\u001B[A\n",
      "                                                      \r\n",
      "Epochs:  33%|███▎      | 1/3 [00:00<00:01,  1.56it/s]]\u001B[A\n",
      "Batches:  33%|███▎      | 2/6 [00:00<00:00,  9.39it/s]\u001B[A"
     ]
    },
    {
     "name": "stdout",
     "output_type": "stream",
     "text": [
      "Epoch 1, Batch 0\n",
      "Epoch 1, Batch 1\n"
     ]
    },
    {
     "name": "stderr",
     "output_type": "stream",
     "text": [
      "\n",
      "                                                      \r\n",
      "Epochs:  33%|███▎      | 1/3 [00:00<00:01,  1.56it/s]]\u001B[A\n",
      "Batches:  50%|█████     | 3/6 [00:00<00:00,  9.36it/s]\u001B[A\n",
      "                                                      \r\n",
      "Epochs:  33%|███▎      | 1/3 [00:01<00:01,  1.56it/s]]\u001B[A\n",
      "Batches:  67%|██████▋   | 4/6 [00:00<00:00,  9.36it/s]\u001B[A"
     ]
    },
    {
     "name": "stdout",
     "output_type": "stream",
     "text": [
      "Epoch 1, Batch 2\n",
      "Epoch 1, Batch 3\n"
     ]
    },
    {
     "name": "stderr",
     "output_type": "stream",
     "text": [
      "\n",
      "                                                      \r\n",
      "Epochs:  33%|███▎      | 1/3 [00:01<00:01,  1.56it/s]]\u001B[A\n",
      "Batches:  83%|████████▎ | 5/6 [00:00<00:00,  9.33it/s]\u001B[A\n",
      "                                                      \r\n",
      "Epochs:  33%|███▎      | 1/3 [00:01<00:01,  1.56it/s]]\u001B[A\n",
      "Batches: 100%|██████████| 6/6 [00:00<00:00,  9.35it/s]\u001B[A\n",
      "Epochs:  67%|██████▋   | 2/3 [00:01<00:00,  1.55it/s] \u001B[A"
     ]
    },
    {
     "name": "stdout",
     "output_type": "stream",
     "text": [
      "Epoch 1, Batch 4\n",
      "Epoch 1, Batch 5\n"
     ]
    },
    {
     "name": "stderr",
     "output_type": "stream",
     "text": [
      "\n",
      "Batches:   0%|          | 0/6 [00:00<?, ?it/s]\u001B[A\n",
      "                                                     \r\n",
      "Epochs:  67%|██████▋   | 2/3 [00:01<00:00,  1.55it/s]\n",
      "Batches:  17%|█▋        | 1/6 [00:00<00:00,  9.49it/s]\u001B[A\n",
      "                                                      \r\n",
      "Epochs:  67%|██████▋   | 2/3 [00:01<00:00,  1.55it/s]]\u001B[A\n",
      "Batches:  33%|███▎      | 2/6 [00:00<00:00,  9.44it/s]\u001B[A"
     ]
    },
    {
     "name": "stdout",
     "output_type": "stream",
     "text": [
      "Epoch 2, Batch 0\n",
      "Epoch 2, Batch 1\n"
     ]
    },
    {
     "name": "stderr",
     "output_type": "stream",
     "text": [
      "\n",
      "                                                      \r\n",
      "Epochs:  67%|██████▋   | 2/3 [00:01<00:00,  1.55it/s]]\u001B[A\n",
      "Batches:  50%|█████     | 3/6 [00:00<00:00,  9.41it/s]\u001B[A\n",
      "                                                      \r\n",
      "Epochs:  67%|██████▋   | 2/3 [00:01<00:00,  1.55it/s]]\u001B[A\n",
      "Batches:  67%|██████▋   | 4/6 [00:00<00:00,  9.38it/s]\u001B[A"
     ]
    },
    {
     "name": "stdout",
     "output_type": "stream",
     "text": [
      "Epoch 2, Batch 2\n",
      "Epoch 2, Batch 3\n"
     ]
    },
    {
     "name": "stderr",
     "output_type": "stream",
     "text": [
      "\n",
      "                                                      \r\n",
      "Epochs:  67%|██████▋   | 2/3 [00:01<00:00,  1.55it/s]]\u001B[A\n",
      "Batches:  83%|████████▎ | 5/6 [00:00<00:00,  9.38it/s]\u001B[A\n",
      "                                                      \r\n",
      "Epochs:  67%|██████▋   | 2/3 [00:01<00:00,  1.55it/s]]\u001B[A\n",
      "Batches: 100%|██████████| 6/6 [00:00<00:00,  9.39it/s]\u001B[A\n",
      "Epochs: 100%|██████████| 3/3 [00:01<00:00,  1.55it/s] \u001B[A"
     ]
    },
    {
     "name": "stdout",
     "output_type": "stream",
     "text": [
      "Epoch 2, Batch 4\n",
      "Epoch 2, Batch 5\n"
     ]
    },
    {
     "name": "stderr",
     "output_type": "stream",
     "text": [
      "\n"
     ]
    }
   ],
   "execution_count": 14
  },
  {
   "metadata": {
    "ExecuteTime": {
     "end_time": "2025-04-20T11:08:17.804538Z",
     "start_time": "2025-04-20T11:08:07.656986Z"
    }
   },
   "cell_type": "code",
   "source": [
    "from tqdm.auto import tqdm\n",
    "\n",
    "num_epochs = 5\n",
    "num_batches = 20\n",
    "\n",
    "with tqdm(total=num_epochs, desc=\"Epoch running\") as pbar_epoch:\n",
    "    for epoch in range(num_epochs):\n",
    "        with tqdm(total=num_batches, desc=f\"Epoch {epoch + 1}/{num_epochs}\") as pbar_batch:\n",
    "            for batch in range(num_batches):\n",
    "                time.sleep(0.1)\n",
    "                pbar_batch.update(1)  # 更新批次进度条\n",
    "                pbar_batch.set_postfix({\"Loss\": f\"{1.0 / (batch + 1):.4f}\", })\n",
    "        pbar_epoch.update(1)  # 更新轮次进度条"
   ],
   "id": "e0b99df0bf666fe6",
   "outputs": [
    {
     "data": {
      "text/plain": [
       "Epoch running:   0%|          | 0/5 [00:00<?, ?it/s]"
      ],
      "application/vnd.jupyter.widget-view+json": {
       "version_major": 2,
       "version_minor": 0,
       "model_id": "e5f9ec1b708848ec9330d2a380d1fe0c"
      }
     },
     "metadata": {},
     "output_type": "display_data"
    },
    {
     "data": {
      "text/plain": [
       "Epoch 1/5:   0%|          | 0/20 [00:00<?, ?it/s]"
      ],
      "application/vnd.jupyter.widget-view+json": {
       "version_major": 2,
       "version_minor": 0,
       "model_id": "f841aa3668294be999b875ae75c6a3ae"
      }
     },
     "metadata": {},
     "output_type": "display_data"
    },
    {
     "data": {
      "text/plain": [
       "Epoch 2/5:   0%|          | 0/20 [00:00<?, ?it/s]"
      ],
      "application/vnd.jupyter.widget-view+json": {
       "version_major": 2,
       "version_minor": 0,
       "model_id": "7241cf9f04944d24889f3b566dbf47d4"
      }
     },
     "metadata": {},
     "output_type": "display_data"
    },
    {
     "data": {
      "text/plain": [
       "Epoch 3/5:   0%|          | 0/20 [00:00<?, ?it/s]"
      ],
      "application/vnd.jupyter.widget-view+json": {
       "version_major": 2,
       "version_minor": 0,
       "model_id": "e8299576bedf42f091c734bd4bcc51da"
      }
     },
     "metadata": {},
     "output_type": "display_data"
    },
    {
     "data": {
      "text/plain": [
       "Epoch 4/5:   0%|          | 0/20 [00:00<?, ?it/s]"
      ],
      "application/vnd.jupyter.widget-view+json": {
       "version_major": 2,
       "version_minor": 0,
       "model_id": "a392c0f207a44d68b332829e6135ba0f"
      }
     },
     "metadata": {},
     "output_type": "display_data"
    },
    {
     "data": {
      "text/plain": [
       "Epoch 5/5:   0%|          | 0/20 [00:00<?, ?it/s]"
      ],
      "application/vnd.jupyter.widget-view+json": {
       "version_major": 2,
       "version_minor": 0,
       "model_id": "7875a7abf7da453fb4eb46f180f30656"
      }
     },
     "metadata": {},
     "output_type": "display_data"
    }
   ],
   "execution_count": 3
  },
  {
   "metadata": {},
   "cell_type": "code",
   "outputs": [],
   "execution_count": null,
   "source": [
    "import numpy as np\n",
    "import time\n",
    "from tqdm.auto import tqdm\n",
    "\n",
    "NUM_EPOCHS = 3\n",
    "train_batch_size = 50\n",
    "val_batch_size = 10\n",
    "\n",
    "# 外层进度条\n",
    "with tqdm(total=NUM_EPOCHS, desc=\"Epoch running\", position=0) as pbar_epoch:\n",
    "    for epoch in range(NUM_EPOCHS):\n",
    "        train_loss = []\n",
    "        # 内层进度条\n",
    "        with tqdm(total=10, desc=f\"Epoch {epoch + 1}/{NUM_EPOCHS} [Train]\", position=1, leave=False) as pbar_train:\n",
    "            for batch in range(train_batch_size):\n",
    "                time.sleep(0.05)\n",
    "                pbar_batch.update(1)"
   ],
   "id": "c02e334ea93b8d5a"
  },
  {
   "metadata": {
    "ExecuteTime": {
     "end_time": "2025-04-19T18:17:57.330742Z",
     "start_time": "2025-04-19T18:17:52.583755Z"
    }
   },
   "cell_type": "code",
   "source": [
    "import time\n",
    "import numpy as np\n",
    "from tqdm.auto import tqdm\n",
    "\n",
    "# 模拟参数\n",
    "epochs = 3\n",
    "train_batches = 50\n",
    "val_batches = 10\n",
    "\n",
    "# 外层进度条：跟踪整体训练进度\n",
    "with tqdm(total=epochs, desc=\"Training\", position=0) as epoch_pbar:\n",
    "    for epoch in range(epochs):\n",
    "        # 训练阶段进度条\n",
    "        train_loss = []\n",
    "        with tqdm(total=train_batches, desc=f\"Epoch {epoch+1}/{epochs} [Train]\",\n",
    "                  position=1, leave=False) as train_pbar:\n",
    "            for batch in range(train_batches):\n",
    "                # 模拟训练过程\n",
    "                time.sleep(0.02)\n",
    "                batch_loss = 1.0 - 0.01 * epoch - 0.001 * batch + 0.05 * np.random.randn()\n",
    "                train_loss.append(batch_loss)\n",
    "\n",
    "                # 更新训练进度条\n",
    "                train_pbar.update(1)\n",
    "                train_pbar.set_postfix({\n",
    "                    'loss': f\"{batch_loss:.4f}\",\n",
    "                    'avg_loss': f\"{np.mean(train_loss):.4f}\"\n",
    "                })\n",
    "\n",
    "        # 验证阶段进度条\n",
    "        val_loss = []\n",
    "        with tqdm(total=val_batches, desc=f\"Epoch {epoch+1}/{epochs} [Valid]\",\n",
    "                  position=1, leave=False) as val_pbar:\n",
    "            for batch in range(val_batches):\n",
    "                # 模拟验证过程\n",
    "                time.sleep(0.05)\n",
    "                batch_loss = 1.1 - 0.015 * epoch - 0.001 * batch + 0.03 * np.random.randn()\n",
    "                val_loss.append(batch_loss)\n",
    "\n",
    "                # 更新验证进度条\n",
    "                val_pbar.update(1)\n",
    "                val_pbar.set_postfix({\n",
    "                    'val_loss': f\"{batch_loss:.4f}\",\n",
    "                    'avg_val_loss': f\"{np.mean(val_loss):.4f}\"\n",
    "                })\n",
    "\n",
    "        # 更新外层进度条，显示每个epoch的汇总信息\n",
    "        epoch_pbar.update(1)\n",
    "        epoch_pbar.set_postfix({\n",
    "            'train_loss': f\"{np.mean(train_loss):.4f}\",\n",
    "            'val_loss': f\"{np.mean(val_loss):.4f}\"\n",
    "        })\n",
    "\n",
    "        # 可以使用tqdm.write打印不会干扰进度条的信息\n",
    "        tqdm.write(f\"Epoch {epoch+1}/{epochs} - \"\n",
    "                  f\"Train Loss: {np.mean(train_loss):.4f}, \"\n",
    "                  f\"Val Loss: {np.mean(val_loss):.4f}\")"
   ],
   "id": "61718a9d5f8dd334",
   "outputs": [
    {
     "data": {
      "text/plain": [
       "Training:   0%|          | 0/3 [00:00<?, ?it/s]"
      ],
      "application/vnd.jupyter.widget-view+json": {
       "version_major": 2,
       "version_minor": 0,
       "model_id": "73cbe161f247452ca2e6c0f43259b535"
      }
     },
     "metadata": {},
     "output_type": "display_data"
    },
    {
     "data": {
      "text/plain": [
       "Epoch 1/3 [Train]:   0%|          | 0/50 [00:00<?, ?it/s]"
      ],
      "application/vnd.jupyter.widget-view+json": {
       "version_major": 2,
       "version_minor": 0,
       "model_id": "0762c77799b44405b256855e33d34e57"
      }
     },
     "metadata": {},
     "output_type": "display_data"
    },
    {
     "data": {
      "text/plain": [
       "Epoch 1/3 [Valid]:   0%|          | 0/10 [00:00<?, ?it/s]"
      ],
      "application/vnd.jupyter.widget-view+json": {
       "version_major": 2,
       "version_minor": 0,
       "model_id": "9dc30c05096140a18948daf4f8e6eda6"
      }
     },
     "metadata": {},
     "output_type": "display_data"
    },
    {
     "name": "stdout",
     "output_type": "stream",
     "text": [
      "Epoch 1/3 - Train Loss: 0.9706, Val Loss: 1.0739\n"
     ]
    },
    {
     "data": {
      "text/plain": [
       "Epoch 2/3 [Train]:   0%|          | 0/50 [00:00<?, ?it/s]"
      ],
      "application/vnd.jupyter.widget-view+json": {
       "version_major": 2,
       "version_minor": 0,
       "model_id": "4156d925241941938883906f4c28f7e6"
      }
     },
     "metadata": {},
     "output_type": "display_data"
    },
    {
     "data": {
      "text/plain": [
       "Epoch 2/3 [Valid]:   0%|          | 0/10 [00:00<?, ?it/s]"
      ],
      "application/vnd.jupyter.widget-view+json": {
       "version_major": 2,
       "version_minor": 0,
       "model_id": "9c71135792584b9facca7c4969079b42"
      }
     },
     "metadata": {},
     "output_type": "display_data"
    },
    {
     "name": "stdout",
     "output_type": "stream",
     "text": [
      "Epoch 2/3 - Train Loss: 0.9676, Val Loss: 1.0900\n"
     ]
    },
    {
     "data": {
      "text/plain": [
       "Epoch 3/3 [Train]:   0%|          | 0/50 [00:00<?, ?it/s]"
      ],
      "application/vnd.jupyter.widget-view+json": {
       "version_major": 2,
       "version_minor": 0,
       "model_id": "1670f545f3264afd951dd3384a5c931d"
      }
     },
     "metadata": {},
     "output_type": "display_data"
    },
    {
     "data": {
      "text/plain": [
       "Epoch 3/3 [Valid]:   0%|          | 0/10 [00:00<?, ?it/s]"
      ],
      "application/vnd.jupyter.widget-view+json": {
       "version_major": 2,
       "version_minor": 0,
       "model_id": "f4d57b6c1aa6476b8f1b0448060399af"
      }
     },
     "metadata": {},
     "output_type": "display_data"
    },
    {
     "name": "stdout",
     "output_type": "stream",
     "text": [
      "Epoch 3/3 - Train Loss: 0.9426, Val Loss: 1.0670\n"
     ]
    }
   ],
   "execution_count": 21
  },
  {
   "metadata": {},
   "cell_type": "code",
   "outputs": [],
   "execution_count": null,
   "source": [
    "def train_with_progress_bar(model, num_epochs, dataloader):\n",
    "    for epoch in range(num_epochs):\n",
    "        with tqdm(dataloader, desc=f\"Epoch [{epoch + 1}/{num_epochs}]\") as progress_bar:\n",
    "            model.train()\n",
    "        running_loss = 0.0\n",
    "        for features, labels in progress_bar:\n",
    "            batch_size = features.size(0)\n",
    "            optimizer.zero_grad()  # 清除上一轮的梯度\n",
    "            logits = model(features)  # 前向传播\n",
    "            loss = criterion(logits, labels)  # 计算损失\n",
    "            loss.backward()  # 反向传播，计算梯度\n",
    "            optimizer.step()  # 更新参数\n",
    "\n",
    "            # 更新进度条信息\n",
    "            running_loss += loss.item()\n",
    "            progress_bar.set_postfix(loss=running_loss / batch_size)"
   ],
   "id": "af7c1ff9ddf2f808"
  },
  {
   "metadata": {},
   "cell_type": "code",
   "outputs": [],
   "execution_count": null,
   "source": "",
   "id": "ba6f20e00ae3f4e6"
  }
 ],
 "metadata": {
  "kernelspec": {
   "display_name": "Python 3",
   "language": "python",
   "name": "python3"
  },
  "language_info": {
   "codemirror_mode": {
    "name": "ipython",
    "version": 2
   },
   "file_extension": ".py",
   "mimetype": "text/x-python",
   "name": "python",
   "nbconvert_exporter": "python",
   "pygments_lexer": "ipython2",
   "version": "2.7.6"
  }
 },
 "nbformat": 4,
 "nbformat_minor": 5
}
