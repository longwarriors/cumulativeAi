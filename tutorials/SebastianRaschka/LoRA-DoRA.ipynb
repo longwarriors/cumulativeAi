{
 "cells": [
  {
   "cell_type": "code",
   "id": "initial_id",
   "metadata": {
    "collapsed": true,
    "ExecuteTime": {
     "end_time": "2025-07-03T10:40:39.867666Z",
     "start_time": "2025-07-03T10:40:37.064389Z"
    }
   },
   "source": [
    "# https://github.com/rasbt/dora-from-scratch\n",
    "# https://magazine.sebastianraschka.com/p/lora-and-dora-from-scratch\n",
    "\n",
    "import torch\n",
    "from torch import nn, optim\n",
    "\n",
    "class LoRAlayer(nn.Module):\n",
    "    def __init__(self, in_features, out_features, rank, alpha):\n",
    "        super().__init__()\n",
    "        std_dev = torch.tensor(1/rank).sqrt()\n",
    "        self.A = nn.Parameter(torch.randn(in_features, rank) * std_dev)\n",
    "        self.B = nn.Parameter(torch.zeros(rank, out_features))\n",
    "        self.alpha = alpha\n",
    "\n",
    "    def forward(self, x):\n",
    "        x = self.alpha * (x @ self.A @ self.B)\n",
    "        return x\n",
    "\n"
   ],
   "outputs": [],
   "execution_count": 3
  },
  {
   "metadata": {
    "ExecuteTime": {
     "end_time": "2025-07-03T10:41:51.236136Z",
     "start_time": "2025-07-03T10:41:51.231418Z"
    }
   },
   "cell_type": "code",
   "source": [
    "rank = 7\n",
    "r1 = 1 / torch.sqrt(torch.tensor(rank).float())\n",
    "r2 = torch.tensor(1/rank).sqrt()\n",
    "print(r1, r2)"
   ],
   "id": "cdb9adebac9fa70f",
   "outputs": [
    {
     "name": "stdout",
     "output_type": "stream",
     "text": [
      "tensor(0.3780) tensor(0.3780)\n"
     ]
    }
   ],
   "execution_count": 8
  },
  {
   "metadata": {},
   "cell_type": "code",
   "outputs": [],
   "execution_count": null,
   "source": "",
   "id": "46fa15aed37fcae1"
  }
 ],
 "metadata": {
  "kernelspec": {
   "display_name": "Python 3",
   "language": "python",
   "name": "python3"
  },
  "language_info": {
   "codemirror_mode": {
    "name": "ipython",
    "version": 2
   },
   "file_extension": ".py",
   "mimetype": "text/x-python",
   "name": "python",
   "nbconvert_exporter": "python",
   "pygments_lexer": "ipython2",
   "version": "2.7.6"
  }
 },
 "nbformat": 4,
 "nbformat_minor": 5
}
