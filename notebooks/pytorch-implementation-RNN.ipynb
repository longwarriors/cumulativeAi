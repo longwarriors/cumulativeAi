{
 "cells": [
  {
   "cell_type": "code",
   "id": "initial_id",
   "metadata": {
    "collapsed": true,
    "ExecuteTime": {
     "end_time": "2025-04-20T13:39:41.714883Z",
     "start_time": "2025-04-20T13:39:39.658631Z"
    }
   },
   "source": [
    "# https://zhuanlan.zhihu.com/p/1892093699342721639\n",
    "# 反复抄写 RNN 的 PyTorch 实现\n",
    "import torch\n",
    "import torch.nn as nn\n",
    "\n",
    "class SimpleRNN(nn.Module):\n",
    "    def __init__(self, input_size, hidden_size, output_size):\n",
    "        super(SimpleRNN, self).__init__()\n",
    "        self.rnn = nn.RNN(input_size, hidden_size, batch_first=True)\n",
    "        self.fc = nn.Linear(hidden_size, output_size)\n",
    "\n",
    "    def forward(self, x):\n",
    "        out, _ = self.rnn(x)\n",
    "        out = self.fc(out[:, -1, :])  # 只取最后一个时间步的输出\n",
    "        return out"
   ],
   "outputs": [],
   "execution_count": 2
  },
  {
   "metadata": {
    "ExecuteTime": {
     "end_time": "2025-04-20T13:43:57.480951Z",
     "start_time": "2025-04-20T13:43:57.475473Z"
    }
   },
   "cell_type": "code",
   "source": [
    "a = torch.rand(size=(25,))\n",
    "print(a)\n",
    "print(a.argmax())\n",
    "print(a.argmax(dim=-1))"
   ],
   "id": "7b54f318556887e8",
   "outputs": [
    {
     "name": "stdout",
     "output_type": "stream",
     "text": [
      "tensor([0.4025, 0.2183, 0.4697, 0.3516, 0.1081, 0.7151, 0.8242, 0.3197, 0.2098,\n",
      "        0.6055, 0.6043, 0.6386, 0.8350, 0.7319, 0.6848, 0.1406, 0.6345, 0.0054,\n",
      "        0.9902, 0.2223, 0.1986, 0.4540, 0.0775, 0.6037, 0.9281])\n",
      "tensor(18)\n",
      "tensor(18)\n"
     ]
    }
   ],
   "execution_count": 12
  },
  {
   "metadata": {
    "ExecuteTime": {
     "end_time": "2025-04-20T13:40:55.722247Z",
     "start_time": "2025-04-20T13:40:55.716844Z"
    }
   },
   "cell_type": "code",
   "source": [
    "b = torch.rand(size=(3, 5))\n",
    "print(b)\n",
    "print(b.argmax(dim=1))\n",
    "print(b.argmax(dim=-1))"
   ],
   "id": "171857690de4a206",
   "outputs": [
    {
     "name": "stdout",
     "output_type": "stream",
     "text": [
      "tensor([[0.9688, 0.5959, 0.9530, 0.9658, 0.4197],\n",
      "        [0.2159, 0.4013, 0.6323, 0.9860, 0.1357],\n",
      "        [0.4115, 0.0835, 0.3932, 0.5063, 0.3148]])\n",
      "tensor([0, 3, 3])\n",
      "tensor([0, 3, 3])\n"
     ]
    }
   ],
   "execution_count": 7
  },
  {
   "metadata": {},
   "cell_type": "code",
   "outputs": [],
   "execution_count": null,
   "source": "",
   "id": "ec6d535d9ac2ee8f"
  }
 ],
 "metadata": {
  "kernelspec": {
   "display_name": "Python 3",
   "language": "python",
   "name": "python3"
  },
  "language_info": {
   "codemirror_mode": {
    "name": "ipython",
    "version": 2
   },
   "file_extension": ".py",
   "mimetype": "text/x-python",
   "name": "python",
   "nbconvert_exporter": "python",
   "pygments_lexer": "ipython2",
   "version": "2.7.6"
  }
 },
 "nbformat": 4,
 "nbformat_minor": 5
}
