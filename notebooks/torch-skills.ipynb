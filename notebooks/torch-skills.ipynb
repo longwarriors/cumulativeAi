{
 "cells": [
  {
   "cell_type": "code",
   "id": "initial_id",
   "metadata": {
    "collapsed": true,
    "ExecuteTime": {
     "end_time": "2025-06-19T02:34:40.614698Z",
     "start_time": "2025-06-19T02:34:37.574970Z"
    }
   },
   "source": [
    "import torch\n",
    "\n",
    "# 单精度浮点数的最大值和最小值 –3e38 to +3e38\n",
    "torch.finfo(torch.float32)"
   ],
   "outputs": [
    {
     "data": {
      "text/plain": [
       "finfo(resolution=1e-06, min=-3.40282e+38, max=3.40282e+38, eps=1.19209e-07, smallest_normal=1.17549e-38, tiny=1.17549e-38, dtype=float32)"
      ]
     },
     "execution_count": 1,
     "metadata": {},
     "output_type": "execute_result"
    }
   ],
   "execution_count": 1
  },
  {
   "metadata": {
    "ExecuteTime": {
     "end_time": "2025-06-19T02:41:27.684831Z",
     "start_time": "2025-06-19T02:41:27.679752Z"
    }
   },
   "cell_type": "code",
   "source": [
    "# 半精度浮点数的最大值和最小值 –6e4 to +6e4\n",
    "torch.finfo(torch.float16)"
   ],
   "id": "4f66e7ea7e6424c2",
   "outputs": [
    {
     "data": {
      "text/plain": [
       "finfo(resolution=0.001, min=-65504, max=65504, eps=0.000976562, smallest_normal=6.10352e-05, tiny=6.10352e-05, dtype=float16)"
      ]
     },
     "execution_count": 6,
     "metadata": {},
     "output_type": "execute_result"
    }
   ],
   "execution_count": 6
  },
  {
   "metadata": {
    "ExecuteTime": {
     "end_time": "2025-06-19T02:41:45.069557Z",
     "start_time": "2025-06-19T02:41:45.065744Z"
    }
   },
   "cell_type": "code",
   "source": [
    "# bfloat16的最大值和最小值 –3e38 to +3e38\n",
    "torch.finfo(torch.bfloat16)"
   ],
   "id": "aa8415fa49db5fc1",
   "outputs": [
    {
     "data": {
      "text/plain": [
       "finfo(resolution=0.01, min=-3.38953e+38, max=3.38953e+38, eps=0.0078125, smallest_normal=1.17549e-38, tiny=1.17549e-38, dtype=bfloat16)"
      ]
     },
     "execution_count": 8,
     "metadata": {},
     "output_type": "execute_result"
    }
   ],
   "execution_count": 8
  },
  {
   "metadata": {
    "ExecuteTime": {
     "end_time": "2025-06-19T02:38:52.015890Z",
     "start_time": "2025-06-19T02:38:52.012292Z"
    }
   },
   "cell_type": "code",
   "source": [
    "from math import pi\n",
    "\n",
    "pi_fp32 = torch.tensor(pi).float()\n",
    "pi_fp32_memory = pi_fp32.element_size() * pi_fp32.nelement()\n",
    "print(f\"Memory size of pi in fp32: {pi_fp32_memory} bytes\")"
   ],
   "id": "a715fce3daac2ccd",
   "outputs": [
    {
     "name": "stdout",
     "output_type": "stream",
     "text": [
      "Memory size of pi in fp32: 4 bytes\n"
     ]
    }
   ],
   "execution_count": 3
  },
  {
   "metadata": {
    "ExecuteTime": {
     "end_time": "2025-06-19T02:39:18.241081Z",
     "start_time": "2025-06-19T02:39:18.237206Z"
    }
   },
   "cell_type": "code",
   "source": "pi_fp32.nelement()",
   "id": "f7dac2a54f5ea56b",
   "outputs": [
    {
     "data": {
      "text/plain": [
       "1"
      ]
     },
     "execution_count": 4,
     "metadata": {},
     "output_type": "execute_result"
    }
   ],
   "execution_count": 4
  },
  {
   "metadata": {
    "ExecuteTime": {
     "end_time": "2025-06-19T02:39:29.190393Z",
     "start_time": "2025-06-19T02:39:29.186077Z"
    }
   },
   "cell_type": "code",
   "source": "pi_fp32.element_size()",
   "id": "355330b29e4a6f7d",
   "outputs": [
    {
     "data": {
      "text/plain": [
       "4"
      ]
     },
     "execution_count": 5,
     "metadata": {},
     "output_type": "execute_result"
    }
   ],
   "execution_count": 5
  },
  {
   "metadata": {},
   "cell_type": "code",
   "outputs": [],
   "execution_count": null,
   "source": "pi_bfloat16 = torch.tensor(pi).bfloat16()",
   "id": "da97699fc81a837a"
  }
 ],
 "metadata": {
  "kernelspec": {
   "display_name": "Python 3",
   "language": "python",
   "name": "python3"
  },
  "language_info": {
   "codemirror_mode": {
    "name": "ipython",
    "version": 2
   },
   "file_extension": ".py",
   "mimetype": "text/x-python",
   "name": "python",
   "nbconvert_exporter": "python",
   "pygments_lexer": "ipython2",
   "version": "2.7.6"
  }
 },
 "nbformat": 4,
 "nbformat_minor": 5
}
