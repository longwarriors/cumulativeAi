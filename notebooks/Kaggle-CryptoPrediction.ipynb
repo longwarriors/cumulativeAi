{
 "cells": [
  {
   "cell_type": "code",
   "id": "initial_id",
   "metadata": {
    "collapsed": true,
    "ExecuteTime": {
     "end_time": "2025-06-25T07:11:15.708992Z",
     "start_time": "2025-06-25T07:11:13.929867Z"
    }
   },
   "source": [
    "# https://www.kaggle.com/competitions/drw-crypto-market-prediction\n",
    "import numpy as np\n",
    "import pandas as pd\n",
    "import matplotlib.pyplot as plt\n",
    "import seaborn as sns\n",
    "import torch\n",
    "import xgboost as xgb\n",
    "import lightgbm as lgb\n",
    "from torch import nn, optim\n",
    "from torch.utils.data import DataLoader, Dataset\n",
    "from scipy.stats import pearsonr\n",
    "from sklearn.model_selection import TimeSeriesSplit, GridSearchCV\n",
    "from sklearn.metrics import mean_squared_error\n",
    "from sklearn.preprocessing import StandardScaler\n",
    "import warnings, os\n",
    "warnings.filterwarnings(\"ignore\")\n",
    "\n",
    "# 设置随机种子\n",
    "def set_seed(seed=42):\n",
    "    np.random.seed(seed)\n",
    "    torch.manual_seed(seed)\n",
    "    torch.cuda.manual_seed_all(seed)\n",
    "\n",
    "set_seed(42)"
   ],
   "outputs": [],
   "execution_count": 1
  },
  {
   "metadata": {
    "ExecuteTime": {
     "end_time": "2025-06-25T07:11:39.440028Z",
     "start_time": "2025-06-25T07:11:23.353256Z"
    }
   },
   "cell_type": "code",
   "source": [
    "# 数据加载分析\n",
    "def load_data(data_dir):\n",
    "    print(\"加载数据...\")\n",
    "    train_file = os.path.join(data_dir, \"train.parquet\")\n",
    "    test_file = os.path.join(data_dir, \"test.parquet\")\n",
    "    submission_file = os.path.join(data_dir, \"sample_submission.csv\")\n",
    "    train_df = pd.read_parquet(train_file)\n",
    "    test_df = pd.read_parquet(test_file)\n",
    "    sample_submission_df = pd.read_csv(submission_file)\n",
    "    print(f\"训练数据形状: {train_df.shape}\")\n",
    "    print(f\"测试数据形状: {test_df.shape}\")\n",
    "    print(f\"样例提交文件形状: {sample_submission_df.shape}\")\n",
    "\n",
    "    # 检查缺失值\n",
    "    print(\"\\n训练数据缺失值:\")\n",
    "    print(train_df.isnull().sum().sum())\n",
    "\n",
    "    # 查看数据基本信息\n",
    "    print(\"\\n训练数据基本信息:\")\n",
    "    print(train_df.info())\n",
    "\n",
    "    # 数据统计摘要\n",
    "    print(\"\\n数据统计摘要:\")\n",
    "    print(train_df.describe())\n",
    "\n",
    "    return train_df, test_df, sample_submission_df\n",
    "\n",
    "DATA_DIR = r\"../data/kaggle-drw-crypto-market-prediction\"\n",
    "train_df, test_df, sample_submission_df = load_data(DATA_DIR)"
   ],
   "id": "d51764badae68292",
   "outputs": [
    {
     "name": "stdout",
     "output_type": "stream",
     "text": [
      "加载数据...\n",
      "训练数据形状: (525887, 896)\n",
      "测试数据形状: (538150, 896)\n",
      "样例提交文件形状: (538150, 2)\n",
      "\n",
      "训练数据缺失值:\n",
      "0\n",
      "\n",
      "训练数据基本信息:\n",
      "<class 'pandas.core.frame.DataFrame'>\n",
      "DatetimeIndex: 525887 entries, 2023-03-01 00:00:00 to 2024-02-29 23:59:00\n",
      "Columns: 896 entries, bid_qty to label\n",
      "dtypes: float64(896)\n",
      "memory usage: 3.5 GB\n",
      "None\n",
      "\n",
      "数据统计摘要:\n",
      "             bid_qty        ask_qty        buy_qty       sell_qty  \\\n",
      "count  525887.000000  525887.000000  525887.000000  525887.000000   \n",
      "mean        9.968003      10.174169     131.726678     132.673944   \n",
      "std        15.645741      15.889582     307.267251     309.803040   \n",
      "min         0.001000       0.001000       0.000000       0.000000   \n",
      "25%         2.634000       2.678000      26.407000      27.021000   \n",
      "50%         6.415000       6.538000      57.015000      58.047000   \n",
      "75%        13.085000      13.330000     127.639000     129.110000   \n",
      "max      1114.932000    1352.965000   17614.400000   17686.234000   \n",
      "\n",
      "              volume             X1             X2             X3  \\\n",
      "count  525887.000000  525887.000000  525887.000000  525887.000000   \n",
      "mean      264.400622      -0.006026      -0.000243      -0.000353   \n",
      "std       588.618746       0.538340       0.613746       0.771744   \n",
      "min         0.000000      -2.787539      -5.861926      -6.125439   \n",
      "25%        60.688500      -0.370635      -0.314135      -0.441536   \n",
      "50%       120.799000      -0.015991      -0.001713      -0.003010   \n",
      "75%       256.733500       0.349104       0.310181       0.431960   \n",
      "max     28701.419000       2.972741       6.151366       6.488532   \n",
      "\n",
      "                  X4             X5  ...           X882           X883  \\\n",
      "count  525887.000000  525887.000000  ...  525887.000000  525887.000000   \n",
      "mean       -0.000425      -0.000263  ...       1.959330       1.954978   \n",
      "std         0.857115       0.464695  ...       0.844732       0.598279   \n",
      "min        -6.093792      -2.855040  ...       0.433416       0.686524   \n",
      "25%        -0.521693      -0.295502  ...       1.367222       1.521202   \n",
      "50%        -0.003948      -0.002545  ...       1.831805       1.882957   \n",
      "75%         0.507830       0.287728  ...       2.369648       2.274296   \n",
      "max         6.394355       3.184776  ...       6.881902       4.745380   \n",
      "\n",
      "                X884           X885           X886           X887  \\\n",
      "count  525887.000000  525887.000000  525887.000000  525887.000000   \n",
      "mean        0.498112       0.498063       0.497997       0.497872   \n",
      "std         0.712811       0.698678       0.684946       0.666936   \n",
      "min         0.000004       0.000006       0.000009       0.000024   \n",
      "25%         0.000162       0.000193       0.000241       0.000997   \n",
      "50%         0.000634       0.001036       0.004593       0.039178   \n",
      "75%         1.473225       1.472025       1.442417       1.380184   \n",
      "max         1.584315       1.584315       1.584315       1.584315   \n",
      "\n",
      "                X888           X889           X890          label  \n",
      "count  525887.000000  525887.000000  525887.000000  525887.000000  \n",
      "mean        0.497525       0.497372       0.995394       0.036126  \n",
      "std         0.615440       0.546439       0.850509       1.009914  \n",
      "min         0.003903       0.015654       0.092913     -24.416615  \n",
      "25%         0.033156       0.066908       0.244373      -0.381585  \n",
      "50%         0.127865       0.161757       0.634448       0.016262  \n",
      "75%         1.120480       0.999344       1.701838       0.434135  \n",
      "max         1.583862       1.557910       2.769604      20.740270  \n",
      "\n",
      "[8 rows x 896 columns]\n"
     ]
    }
   ],
   "execution_count": 2
  },
  {
   "metadata": {
    "ExecuteTime": {
     "end_time": "2025-06-25T08:04:19.295356Z",
     "start_time": "2025-06-25T08:04:19.289365Z"
    }
   },
   "cell_type": "code",
   "source": "print(train_df.head())",
   "id": "7ff8101ccae85919",
   "outputs": [
    {
     "name": "stdout",
     "output_type": "stream",
     "text": [
      "                     bid_qty  ask_qty  buy_qty  sell_qty   volume        X1  \\\n",
      "timestamp                                                                     \n",
      "2023-03-01 00:00:00   15.283    8.425  176.405    44.984  221.389  0.121263   \n",
      "2023-03-01 00:01:00   38.590    2.336  525.846   321.950  847.796  0.302841   \n",
      "2023-03-01 00:02:00    0.442   60.250  159.227   136.369  295.596  0.167462   \n",
      "2023-03-01 00:03:00    4.865   21.016  335.742   124.963  460.705  0.072944   \n",
      "2023-03-01 00:04:00   27.158    3.451   98.411    44.407  142.818  0.173820   \n",
      "\n",
      "                           X2        X3        X4        X5  ...      X882  \\\n",
      "timestamp                                                    ...             \n",
      "2023-03-01 00:00:00 -0.417690  0.005399  0.125948  0.058359  ...  1.925423   \n",
      "2023-03-01 00:01:00 -0.049576  0.356667  0.481087  0.237954  ...  1.928569   \n",
      "2023-03-01 00:02:00 -0.291212  0.083138  0.206881  0.101727  ...  1.928047   \n",
      "2023-03-01 00:03:00 -0.436590 -0.102483  0.017551  0.007149  ...  1.928621   \n",
      "2023-03-01 00:04:00 -0.213489  0.096067  0.215709  0.107133  ...  1.927084   \n",
      "\n",
      "                         X883      X884      X885      X886      X887  \\\n",
      "timestamp                                                               \n",
      "2023-03-01 00:00:00  1.847943  0.005676  0.190791  0.369691  0.377630   \n",
      "2023-03-01 00:01:00  1.849468  0.005227  0.184660  0.363642  0.374515   \n",
      "2023-03-01 00:02:00  1.849282  0.004796  0.178719  0.357689  0.371424   \n",
      "2023-03-01 00:03:00  1.849608  0.004398  0.172967  0.351832  0.368358   \n",
      "2023-03-01 00:04:00  1.848950  0.004008  0.167391  0.346066  0.365314   \n",
      "\n",
      "                         X888      X889      X890     label  \n",
      "timestamp                                                    \n",
      "2023-03-01 00:00:00  0.210153  0.159183  0.530636  0.562539  \n",
      "2023-03-01 00:01:00  0.209573  0.158963  0.530269  0.533686  \n",
      "2023-03-01 00:02:00  0.208993  0.158744  0.529901  0.546505  \n",
      "2023-03-01 00:03:00  0.208416  0.158524  0.529534  0.357703  \n",
      "2023-03-01 00:04:00  0.207839  0.158304  0.529167  0.362452  \n",
      "\n",
      "[5 rows x 896 columns]\n"
     ]
    }
   ],
   "execution_count": 10
  },
  {
   "metadata": {
    "ExecuteTime": {
     "end_time": "2025-06-25T08:06:06.426176Z",
     "start_time": "2025-06-25T08:06:06.422064Z"
    }
   },
   "cell_type": "code",
   "source": "print(train_df.index.name)",
   "id": "954b1e5921142553",
   "outputs": [
    {
     "name": "stdout",
     "output_type": "stream",
     "text": [
      "timestamp\n"
     ]
    }
   ],
   "execution_count": 11
  },
  {
   "metadata": {
    "ExecuteTime": {
     "end_time": "2025-06-25T07:39:44.025754Z",
     "start_time": "2025-06-25T07:39:44.021107Z"
    }
   },
   "cell_type": "code",
   "source": "train_df.columns",
   "id": "a5685d7fada36af3",
   "outputs": [
    {
     "data": {
      "text/plain": [
       "Index(['bid_qty', 'ask_qty', 'buy_qty', 'sell_qty', 'volume', 'X1', 'X2', 'X3',\n",
       "       'X4', 'X5',\n",
       "       ...\n",
       "       'X882', 'X883', 'X884', 'X885', 'X886', 'X887', 'X888', 'X889', 'X890',\n",
       "       'label'],\n",
       "      dtype='object', length=896)"
      ]
     },
     "execution_count": 4,
     "metadata": {},
     "output_type": "execute_result"
    }
   ],
   "execution_count": 4
  },
  {
   "metadata": {
    "ExecuteTime": {
     "end_time": "2025-06-25T08:45:35.500893Z",
     "start_time": "2025-06-25T08:45:32.263782Z"
    }
   },
   "cell_type": "code",
   "source": [
    "# 有“时间戳”列的表格做时间序列降采样\n",
    "train_df_resampled = train_df.resample('1D').mean()\n",
    "print(train_df_resampled.shape)\n",
    "print(train_df_resampled.index.name)\n",
    "train_df_resampled.to_csv(os.path.join(DATA_DIR, \"train_resampled.csv\"))"
   ],
   "id": "66e467888288fb62",
   "outputs": [
    {
     "name": "stdout",
     "output_type": "stream",
     "text": [
      "(366, 896)\n",
      "timestamp\n"
     ]
    }
   ],
   "execution_count": 18
  },
  {
   "metadata": {
    "ExecuteTime": {
     "end_time": "2025-06-25T08:46:18.672076Z",
     "start_time": "2025-06-25T08:46:18.664788Z"
    }
   },
   "cell_type": "code",
   "source": "print(test_df.head())",
   "id": "856eee5f0561e8fe",
   "outputs": [
    {
     "name": "stdout",
     "output_type": "stream",
     "text": [
      "    bid_qty  ask_qty  buy_qty  sell_qty   volume        X1        X2  \\\n",
      "ID                                                                     \n",
      "1     0.114   12.121   10.587    10.971   21.558 -0.732818  0.512331   \n",
      "2     2.426    2.962  136.241    12.304  148.545 -0.337995 -0.412176   \n",
      "3     1.085    2.343   23.390    57.171   80.561  0.111249  0.458221   \n",
      "4    14.793    1.117  116.518    13.082  129.600 -0.149399 -0.640638   \n",
      "5     0.033   14.178   43.800    49.836   93.636 -0.694662  0.611254   \n",
      "\n",
      "          X3        X4        X5  ...      X882      X883      X884      X885  \\\n",
      "ID                                ...                                           \n",
      "1  -0.041982 -0.598260 -0.517646  ...  1.014336  1.367567  1.584126  1.584126   \n",
      "2  -0.259468 -0.334809 -0.247443  ...  1.748939  1.848177  0.000131  0.000323   \n",
      "3   0.466916  0.574081  0.324722  ...  1.704680  1.772028  0.000550  0.003597   \n",
      "4  -0.873778 -1.026144 -0.508816  ...  0.930946  1.037839  1.382037  1.382037   \n",
      "5   0.067671 -0.531632 -0.581450  ...  1.080267  1.141878  0.000363  0.012718   \n",
      "\n",
      "        X886      X887      X888      X889      X890  label  \n",
      "ID                                                           \n",
      "1   1.584126  1.584125  1.567979  1.426368  2.192682    0.0  \n",
      "2   0.001746  0.007319  0.050925  0.142206  0.739759    0.0  \n",
      "3   0.009265  0.019948  0.072535  0.169672  0.807862    0.0  \n",
      "4   1.382037  1.382037  1.381752  1.363445  2.465509    0.0  \n",
      "5   0.137533  0.464112  1.050577  1.268567  2.499015    0.0  \n",
      "\n",
      "[5 rows x 896 columns]\n"
     ]
    }
   ],
   "execution_count": 19
  },
  {
   "metadata": {
    "ExecuteTime": {
     "end_time": "2025-06-25T08:46:59.830709Z",
     "start_time": "2025-06-25T08:46:59.824849Z"
    }
   },
   "cell_type": "code",
   "source": "test_df.index.name",
   "id": "759ba5d6b1b67631",
   "outputs": [
    {
     "data": {
      "text/plain": [
       "'ID'"
      ]
     },
     "execution_count": 20,
     "metadata": {},
     "output_type": "execute_result"
    }
   ],
   "execution_count": 20
  },
  {
   "metadata": {
    "ExecuteTime": {
     "end_time": "2025-06-25T10:16:20.356309Z",
     "start_time": "2025-06-25T10:16:20.351412Z"
    }
   },
   "cell_type": "code",
   "source": "print(test_df.columns)",
   "id": "83245a0e6fad196e",
   "outputs": [
    {
     "name": "stdout",
     "output_type": "stream",
     "text": [
      "Index(['bid_qty', 'ask_qty', 'buy_qty', 'sell_qty', 'volume', 'X1', 'X2', 'X3',\n",
      "       'X4', 'X5',\n",
      "       ...\n",
      "       'X882', 'X883', 'X884', 'X885', 'X886', 'X887', 'X888', 'X889', 'X890',\n",
      "       'label'],\n",
      "      dtype='object', length=896)\n"
     ]
    }
   ],
   "execution_count": 23
  },
  {
   "metadata": {
    "ExecuteTime": {
     "end_time": "2025-06-25T08:48:42.396992Z",
     "start_time": "2025-06-25T08:48:39.529437Z"
    }
   },
   "cell_type": "code",
   "source": [
    "test_df_resampled = test_df.sample(n=1000, random_state=42)  # 随机抽样1000行\n",
    "test_df_resampled.to_csv(os.path.join(DATA_DIR, \"test_resampled.csv\"))"
   ],
   "id": "f7f6a9cf4939497b",
   "outputs": [],
   "execution_count": 21
  },
  {
   "metadata": {
    "ExecuteTime": {
     "end_time": "2025-06-25T10:00:46.224542Z",
     "start_time": "2025-06-25T10:00:46.205129Z"
    }
   },
   "cell_type": "code",
   "source": "print(sample_submission_df.head())",
   "id": "a22263c43078d884",
   "outputs": [
    {
     "name": "stdout",
     "output_type": "stream",
     "text": [
      "   ID  prediction\n",
      "0   1   -0.280233\n",
      "1   2    1.371969\n",
      "2   3   -2.045252\n",
      "3   4   -1.447555\n",
      "4   5   -1.303901\n"
     ]
    }
   ],
   "execution_count": 22
  },
  {
   "metadata": {},
   "cell_type": "code",
   "outputs": [],
   "execution_count": null,
   "source": [
    "# 特征工程数据预处理\n",
    "def preprocess_data(train_df, test_df):\n",
    "    print(\"\\n数据预处理...\")\n",
    "    # 分离训练集的特征和标签\n",
    "    X_train = train_df.drop(columns=\"label\", axis=1)\n",
    "    y_train = train_df[\"label\"]\n",
    "\n",
    "    # 分离测试集的特征和标签\n",
    "    X_test = test_df.drop(columns=\"label\", axis=1)\n",
    "    y_test = test_df[\"label\"]"
   ],
   "id": "4b59e73534599a00"
  }
 ],
 "metadata": {
  "kernelspec": {
   "display_name": "Python 3",
   "language": "python",
   "name": "python3"
  },
  "language_info": {
   "codemirror_mode": {
    "name": "ipython",
    "version": 2
   },
   "file_extension": ".py",
   "mimetype": "text/x-python",
   "name": "python",
   "nbconvert_exporter": "python",
   "pygments_lexer": "ipython2",
   "version": "2.7.6"
  }
 },
 "nbformat": 4,
 "nbformat_minor": 5
}
