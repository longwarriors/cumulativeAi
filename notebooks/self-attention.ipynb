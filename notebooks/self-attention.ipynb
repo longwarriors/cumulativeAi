{
 "cells": [
  {
   "cell_type": "code",
   "execution_count": null,
   "id": "initial_id",
   "metadata": {
    "collapsed": true
   },
   "outputs": [],
   "source": [
    "# https://www.zhihu.com/question/341222779/answer/1900671989737328833\n",
    "import torch\n",
    "import torch.nn as nn\n",
    "import torch.nn.functional as F\n",
    "\n",
    "\n",
    "class SelfAttention(nn.Module):\n",
    "    def __init__(self,\n",
    "                 embed_dim: int = 512,\n",
    "                 num_heads: int = 8,\n",
    "                 drop_rate: float = 0.1):\n",
    "        super().__init__()\n",
    "        self.embed_dim = embed_dim\n",
    "        self.num_heads = num_heads  # 有8个注意力头\n",
    "        self.head_dim = self.embed_dim // self.num_heads  # 每个注意力头的维度d_k\n",
    "\n",
    "        assert (\n",
    "                self.head_dim * self.num_heads == self.embed_dim\n",
    "        ), \"Embedding dimension must be divisible by num_heads\"\n",
    "\n",
    "        self.W_q = nn.Linear(self.embed_dim, self.head_dim * self.num_heads, bias=False)\n",
    "        self.W_k = nn.Linear(self.embed_dim, self.head_dim * self.num_heads, bias=False)\n",
    "        self.W_v = nn.Linear(self.embed_dim, self.head_dim * self.num_heads, bias=False)\n",
    "        self.fc = nn.Linear(self.embed_dim, self.embed_dim, bias=False)\n",
    "        self.norm = nn.LayerNorm(self.embed_dim)\n",
    "\n",
    "    def forward(self, q: torch.Tensor, k: torch.Tensor, v: torch.Tensor, attn_mask=None) -> torch.Tensor:\n",
    "        \"\"\"\n",
    "        q=k=v=x, x is the input features\n",
    "        x.shape = (batch_size, seq_len, embed_dim)\n",
    "        attn_mask.shape = (seq_len, seq_len)\n",
    "        output.shape = (batch_size, seq_len, head_dim)\n",
    "        \"\"\"\n",
    "        batch_size, seq_len, d_model = q.shape\n",
    "        q = self.W_q(q) # (batch_size, seq_len, d_k*num_heads)\n",
    "        q = q.view(batch_size, self.num_heads, seq_len, -1) # (batch_size, num_heads, seq_len, d_k)\n",
    "        k = self.W_k(k) # (batch_size, seq_len, d_k*num_heads)\n",
    "        k = k.view(batch_size, self.num_heads, seq_len, -1) # (batch_size, num_heads, seq_len, d_k)\n",
    "        v = self.W_v(v) # (batch_size, seq_len, d_k*num_heads)\n",
    "        v = v.view(batch_size, self.num_heads, seq_len, -1) # (batch_size, num_heads, seq_len, d_k)\n",
    "\n",
    "        attns = torch.einsum(\"bhqd,bhkd->bhqk\", q, k) / torch.sqrt(k.size(-1)) # (batch_size, num_heads, seq_len, seq_len)\n",
    "        if attn_mask is not None:\n",
    "            attns = attns.masked_fill(attn_mask == 0, float(\"-inf\"))"
   ]
  }
 ],
 "metadata": {
  "kernelspec": {
   "display_name": "Python 3",
   "language": "python",
   "name": "python3"
  },
  "language_info": {
   "codemirror_mode": {
    "name": "ipython",
    "version": 2
   },
   "file_extension": ".py",
   "mimetype": "text/x-python",
   "name": "python",
   "nbconvert_exporter": "python",
   "pygments_lexer": "ipython2",
   "version": "2.7.6"
  }
 },
 "nbformat": 4,
 "nbformat_minor": 5
}
