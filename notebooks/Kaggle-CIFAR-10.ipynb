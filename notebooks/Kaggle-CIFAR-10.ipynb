{
 "cells": [
  {
   "cell_type": "code",
   "id": "initial_id",
   "metadata": {
    "collapsed": true,
    "ExecuteTime": {
     "end_time": "2025-04-03T06:35:01.221450Z",
     "start_time": "2025-04-03T06:35:01.107944Z"
    }
   },
   "source": [
    "# 从原始图像文件开始读取\n",
    "# 并将它们转换为张量格式\n",
    "# https://www.kaggle.com/c/cifar-10\n",
    "# https://www.zhihu.com/question/54883612/answer/130707137363\n",
    "\n",
    "import os\n",
    "import shutil\n",
    "from collections import Counter\n",
    "\n",
    "# 数据文件路径\n",
    "data_files_dir = r'../data/kaggle-cifar-10'\n",
    "train_images_dir = os.path.join(data_files_dir, 'train')\n",
    "test_images_dir = os.path.join(data_files_dir, 'test')\n",
    "train_labels_file_path = os.path.join(data_files_dir, 'trainLabels.csv')\n",
    "submission_example_file_path = os.path.join(data_files_dir, 'sampleSubmission.csv')\n",
    "\n",
    "\n",
    "def read_csv_labels(file_path) -> dict:\n",
    "    \"\"\"\n",
    "    读取CSV文件，返回文件名到标签的字典\n",
    "    :param file_path: CSV文件路径\n",
    "    :return: 字典\n",
    "    \"\"\"\n",
    "    with open(file_path, 'r', encoding='utf-8') as f:\n",
    "        lines = f.readlines()[1:]  # 跳过第一行标题\n",
    "    # 遍历每一行，将其去掉末尾的换行符，并按逗号分割成列表\n",
    "    tokens = [line.strip().split(',') for line in lines]\n",
    "    # 创建字典，键是文件名，值是标签\n",
    "    return dict(((name, label) for name, label in tokens))\n",
    "\n",
    "\n",
    "train_labels = read_csv_labels(train_labels_file_path)\n",
    "print('# 训练样本 :', len(train_labels))\n",
    "print('# 类别数 :', len(set(train_labels.values())))\n",
    "dict(list(train_labels.items())[:10])  # 显示前10个样本的文件名和标签"
   ],
   "outputs": [
    {
     "name": "stdout",
     "output_type": "stream",
     "text": [
      "# 训练样本 : 50000\n",
      "# 类别数 : 10\n"
     ]
    },
    {
     "data": {
      "text/plain": [
       "{'1': 'frog',\n",
       " '2': 'truck',\n",
       " '3': 'truck',\n",
       " '4': 'deer',\n",
       " '5': 'automobile',\n",
       " '6': 'automobile',\n",
       " '7': 'bird',\n",
       " '8': 'horse',\n",
       " '9': 'ship',\n",
       " '10': 'cat'}"
      ]
     },
     "execution_count": 5,
     "metadata": {},
     "output_type": "execute_result"
    }
   ],
   "execution_count": 5
  },
  {
   "metadata": {
    "ExecuteTime": {
     "end_time": "2025-04-03T06:45:40.105519Z",
     "start_time": "2025-04-03T06:45:40.094515Z"
    }
   },
   "cell_type": "code",
   "source": [
    "# 显示标签种类分布\n",
    "Counter(train_labels.values())"
   ],
   "id": "b3679a30619a640",
   "outputs": [
    {
     "data": {
      "text/plain": [
       "Counter({'frog': 5000,\n",
       "         'truck': 5000,\n",
       "         'deer': 5000,\n",
       "         'automobile': 5000,\n",
       "         'bird': 5000,\n",
       "         'horse': 5000,\n",
       "         'ship': 5000,\n",
       "         'cat': 5000,\n",
       "         'dog': 5000,\n",
       "         'airplane': 5000})"
      ]
     },
     "execution_count": 8,
     "metadata": {},
     "output_type": "execute_result"
    }
   ],
   "execution_count": 8
  },
  {
   "metadata": {},
   "cell_type": "code",
   "outputs": [],
   "execution_count": null,
   "source": [
    "def copy_files(file_path, target_dir):\n",
    "    \"\"\"\n",
    "    将文件复制到目标目录\n",
    "    :param file_path: 源文件路径\n",
    "    :param target_dir: 目标文件夹\n",
    "    \"\"\"\n",
    "    os.makedirs(target_dir, exist_ok=True)  # 确保目标目录存在，如果不存在则创建\n",
    "    shutil.copy(file_path, target_dir)\n",
    "\n",
    "\n",
    "def reorganize_train_valid(whole_train_dir: str,\n",
    "                           labels: dict,\n",
    "                           valid_ratio: float = 0.2):\n",
    "    \"\"\"\n",
    "    将训练集划分为训练集和验证集\n",
    "    :param whole_train_dir: 训练集目录\n",
    "    :param labels: 标签字典 {文件名: 类别}\n",
    "    :param valid_ratio: 验证集比例\n",
    "    \"\"\"\n",
    "    label_counts = Counter(labels.values()) # 统计训练数据集中每个类别的样本数\n",
    "    min_count = min(label_counts.values()) # 获取样本最少的类别的样本数\n",
    "    valid_count_per_label = max(1, int(min_count * valid_ratio)) # 每个类比在验证集中至少要有的样本数\n",
    "    files_by_label = {}\n",
    "\n",
    "    os.makedirs(whole_train_dir, exist_ok=True)  # 确保验证集目录存在，如果不存在则创建\n",
    "    for label in set(labels.values()):\n",
    "        label_dir = os.path.join(train_dir, label)\n",
    "        os.makedirs(label_dir, exist_ok=True)  # 确保标签目录存在，如果不存在则创建\n",
    "        # 获取当前标签的所有文件名\n",
    "        files = [name for name, l in labels.items() if l == label]\n",
    "        # 随机选择一部分文件作为验证集\n",
    "        valid_files = files[:int(len(files) * valid_ratio)]\n",
    "        # 将验证集文件复制到验证集目录\n",
    "        for file in valid_files:\n",
    "            copy_files(os.path.join(train_dir, file), os.path.join(valid_dir, label))\n",
    "            files.remove(file)  # 从训练集中删除这些文件"
   ],
   "id": "db5da387e8c72f23"
  }
 ],
 "metadata": {
  "kernelspec": {
   "display_name": "Python 3",
   "language": "python",
   "name": "python3"
  },
  "language_info": {
   "codemirror_mode": {
    "name": "ipython",
    "version": 2
   },
   "file_extension": ".py",
   "mimetype": "text/x-python",
   "name": "python",
   "nbconvert_exporter": "python",
   "pygments_lexer": "ipython2",
   "version": "2.7.6"
  }
 },
 "nbformat": 4,
 "nbformat_minor": 5
}
