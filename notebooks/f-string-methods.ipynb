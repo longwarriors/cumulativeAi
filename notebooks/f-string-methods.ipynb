{
 "cells": [
  {
   "cell_type": "code",
   "id": "initial_id",
   "metadata": {
    "collapsed": true,
    "ExecuteTime": {
     "end_time": "2025-05-05T02:21:45.685279Z",
     "start_time": "2025-05-05T02:21:45.680651Z"
    }
   },
   "source": [
    "# https://www.bilibili.com/video/BV1f2L6zTEQ9/\n",
    "# 字符串格式化技巧\n",
    "n: int = 100000000000000000\n",
    "print(f'{n:_}')\n",
    "print(f'{n:,}')\n",
    "print(f'{n:.2e}')\n",
    "print(f'{n:.2f}')"
   ],
   "outputs": [
    {
     "name": "stdout",
     "output_type": "stream",
     "text": [
      "100_000_000_000_000_000\n",
      "100,000,000,000,000,000\n",
      "1.00e+17\n",
      "100000000000000000.00\n"
     ]
    }
   ],
   "execution_count": 4
  },
  {
   "metadata": {
    "ExecuteTime": {
     "end_time": "2025-05-05T02:26:24.959481Z",
     "start_time": "2025-05-05T02:26:24.954500Z"
    }
   },
   "cell_type": "code",
   "source": [
    "var: str = 'hello'\n",
    "print(f'{var:>20}:')  # 右对齐\n",
    "print(f'{var:<20}:')  # 左对齐\n",
    "print(f'{var:^20}:')  # 居中对齐\n",
    "\n",
    "print(f'{var:#>20}:')  # 用 # 填充\n",
    "print(f'{var:_^20}:')  # 用 _ 填充\n",
    "print(f'{var:|<20}:')  # 用 | 填充"
   ],
   "id": "d97610a5269edf3d",
   "outputs": [
    {
     "name": "stdout",
     "output_type": "stream",
     "text": [
      "               hello:\n",
      "hello               :\n",
      "       hello        :\n",
      "###############hello:\n",
      "_______hello________:\n",
      "hello|||||||||||||||:\n"
     ]
    }
   ],
   "execution_count": 13
  },
  {
   "metadata": {
    "ExecuteTime": {
     "end_time": "2025-05-05T03:28:26.177792Z",
     "start_time": "2025-05-05T03:28:26.171999Z"
    }
   },
   "cell_type": "code",
   "source": [
    "from datetime import datetime\n",
    "\n",
    "now: datetime = datetime.now()\n",
    "# 调整对齐方式，考虑中文字符宽度\n",
    "print(f'{\"默认打印格式\":<10} -> {now}')\n",
    "print(f'{\"本地时间\":<12} -> {now:%c}')\n",
    "print(f'{\"12小时制\":<12} -> {now:%I:%M %p}')\n",
    "print(f'{\"格式化日期\":<11} -> {now:%Y-%m-%d %H:%M:%S}')"
   ],
   "id": "6bdc297b1438eb76",
   "outputs": [
    {
     "name": "stdout",
     "output_type": "stream",
     "text": [
      "默认打印格式     -> 2025-05-05 11:28:26.175173\n",
      "本地时间         -> Mon May  5 11:28:26 2025\n",
      "12小时制        -> 11:28 AM\n",
      "格式化日期       -> 2025-05-05 11:28:26\n"
     ]
    }
   ],
   "execution_count": 36
  },
  {
   "metadata": {},
   "cell_type": "code",
   "outputs": [],
   "execution_count": null,
   "source": "",
   "id": "fc84cf61b519ac66"
  }
 ],
 "metadata": {
  "kernelspec": {
   "display_name": "Python 3",
   "language": "python",
   "name": "python3"
  },
  "language_info": {
   "codemirror_mode": {
    "name": "ipython",
    "version": 2
   },
   "file_extension": ".py",
   "mimetype": "text/x-python",
   "name": "python",
   "nbconvert_exporter": "python",
   "pygments_lexer": "ipython2",
   "version": "2.7.6"
  }
 },
 "nbformat": 4,
 "nbformat_minor": 5
}
