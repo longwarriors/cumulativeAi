{
 "cells": [
  {
   "cell_type": "code",
   "id": "initial_id",
   "metadata": {
    "collapsed": true,
    "ExecuteTime": {
     "end_time": "2025-04-25T08:19:43.519484Z",
     "start_time": "2025-04-25T08:19:43.513957Z"
    }
   },
   "source": [
    "import torch\n",
    "import torch.nn as nn\n",
    "emb = nn.Embedding(10, 3) # 10个词，每个词是3维向量\n",
    "query = torch.LongTensor([[1, 2, 3], [4, 5, 6]])\n",
    "output = emb(query)\n",
    "print(output)"
   ],
   "outputs": [
    {
     "name": "stdout",
     "output_type": "stream",
     "text": [
      "tensor([[[-1.8462,  0.2975,  0.9761],\n",
      "         [ 0.2201,  0.7005,  0.9002],\n",
      "         [-0.1408, -1.2125,  0.3602]],\n",
      "\n",
      "        [[-1.1050,  0.1005,  0.6333],\n",
      "         [ 0.8515,  1.4445, -0.5583],\n",
      "         [ 3.0332, -0.0385, -0.0709]]], grad_fn=<EmbeddingBackward0>)\n"
     ]
    }
   ],
   "execution_count": 3
  },
  {
   "metadata": {
    "ExecuteTime": {
     "end_time": "2025-04-25T08:19:46.387131Z",
     "start_time": "2025-04-25T08:19:46.382852Z"
    }
   },
   "cell_type": "code",
   "source": "emb.weight",
   "id": "96e21aaff0069cd7",
   "outputs": [
    {
     "data": {
      "text/plain": [
       "Parameter containing:\n",
       "tensor([[ 0.2501,  0.4505,  1.9545],\n",
       "        [-1.8462,  0.2975,  0.9761],\n",
       "        [ 0.2201,  0.7005,  0.9002],\n",
       "        [-0.1408, -1.2125,  0.3602],\n",
       "        [-1.1050,  0.1005,  0.6333],\n",
       "        [ 0.8515,  1.4445, -0.5583],\n",
       "        [ 3.0332, -0.0385, -0.0709],\n",
       "        [-0.7487,  0.1876, -0.8371],\n",
       "        [ 0.2477,  0.9405, -0.5344],\n",
       "        [ 0.1898,  0.9735,  1.5676]], requires_grad=True)"
      ]
     },
     "execution_count": 4,
     "metadata": {},
     "output_type": "execute_result"
    }
   ],
   "execution_count": 4
  },
  {
   "metadata": {
    "ExecuteTime": {
     "end_time": "2025-04-25T08:20:24.906080Z",
     "start_time": "2025-04-25T08:20:24.901579Z"
    }
   },
   "cell_type": "code",
   "source": [
    "q_in = torch.LongTensor([1, 2, 3])\n",
    "q_out = emb(q_in)\n",
    "print(q_out)"
   ],
   "id": "41c87ce39080c1cb",
   "outputs": [
    {
     "name": "stdout",
     "output_type": "stream",
     "text": [
      "tensor([[-1.8462,  0.2975,  0.9761],\n",
      "        [ 0.2201,  0.7005,  0.9002],\n",
      "        [-0.1408, -1.2125,  0.3602]], grad_fn=<EmbeddingBackward0>)\n"
     ]
    }
   ],
   "execution_count": 5
  },
  {
   "metadata": {},
   "cell_type": "code",
   "outputs": [],
   "execution_count": null,
   "source": "",
   "id": "607bb16ed425e400"
  }
 ],
 "metadata": {
  "kernelspec": {
   "display_name": "Python 3",
   "language": "python",
   "name": "python3"
  },
  "language_info": {
   "codemirror_mode": {
    "name": "ipython",
    "version": 2
   },
   "file_extension": ".py",
   "mimetype": "text/x-python",
   "name": "python",
   "nbconvert_exporter": "python",
   "pygments_lexer": "ipython2",
   "version": "2.7.6"
  }
 },
 "nbformat": 4,
 "nbformat_minor": 5
}
