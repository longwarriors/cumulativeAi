{
 "cells": [
  {
   "cell_type": "code",
   "id": "initial_id",
   "metadata": {
    "collapsed": true,
    "ExecuteTime": {
     "end_time": "2025-04-30T02:57:52.234767Z",
     "start_time": "2025-04-30T02:57:52.229686Z"
    }
   },
   "source": [
    "import torch\n",
    "import torch.nn as nn\n",
    "\n",
    "batch_size, seq_len, d_model = 64, 10, 3\n",
    "emb = nn.Embedding(seq_len, d_model)  # 10个词，每个词是3维向量\n",
    "print(f\"嵌入层的形状: {emb.weight.shape}\")\n",
    "print(f\"嵌入层的参数: \\n{emb.weight.detach().numpy()}\")\n",
    "\n",
    "query = torch.LongTensor([[1, 2, 3], [4, 5, 6]])  # 二维索引指标\n",
    "output = emb(query)\n",
    "print(f\"嵌入层输出的形状: {output.shape}\")\n",
    "print(f\"嵌入层输出的张量: \\n{output.detach().numpy()}\")"
   ],
   "outputs": [
    {
     "name": "stdout",
     "output_type": "stream",
     "text": [
      "嵌入层的形状: torch.Size([10, 3])\n",
      "嵌入层的参数: \n",
      "[[-0.42180437  2.0353827   1.1638284 ]\n",
      " [ 0.27184504  1.4092371  -0.9940103 ]\n",
      " [-0.07250201 -1.5029283  -0.6309964 ]\n",
      " [-0.942438   -0.7351417   0.22733966]\n",
      " [ 1.9784678   0.8207226  -0.56497574]\n",
      " [ 1.2907467   0.4594038   1.112774  ]\n",
      " [ 1.0533401  -0.5800268   0.0155646 ]\n",
      " [ 0.05913044  0.8964288   0.09396027]\n",
      " [ 1.2051184  -0.0675792  -0.55703914]\n",
      " [-0.17452654 -0.12954919  0.03179752]]\n",
      "嵌入层输出的形状: torch.Size([2, 3, 3])\n",
      "嵌入层输出的张量: \n",
      "[[[ 0.27184504  1.4092371  -0.9940103 ]\n",
      "  [-0.07250201 -1.5029283  -0.6309964 ]\n",
      "  [-0.942438   -0.7351417   0.22733966]]\n",
      "\n",
      " [[ 1.9784678   0.8207226  -0.56497574]\n",
      "  [ 1.2907467   0.4594038   1.112774  ]\n",
      "  [ 1.0533401  -0.5800268   0.0155646 ]]]\n"
     ]
    }
   ],
   "execution_count": 8
  },
  {
   "metadata": {
    "ExecuteTime": {
     "end_time": "2025-04-30T02:51:10.717622Z",
     "start_time": "2025-04-30T02:51:10.713427Z"
    }
   },
   "cell_type": "code",
   "source": [
    "# 一维索引指标\n",
    "q_in = torch.LongTensor([1, 2, 3])\n",
    "q_out = emb(q_in)\n",
    "print(q_out)"
   ],
   "id": "41c87ce39080c1cb",
   "outputs": [
    {
     "name": "stdout",
     "output_type": "stream",
     "text": [
      "tensor([[ 0.5812,  1.5754,  1.6710],\n",
      "        [-1.9034, -2.0241, -0.2872],\n",
      "        [ 0.0303,  1.4448, -0.3176]], grad_fn=<EmbeddingBackward0>)\n"
     ]
    }
   ],
   "execution_count": 6
  },
  {
   "metadata": {
    "ExecuteTime": {
     "end_time": "2025-04-30T03:03:22.582162Z",
     "start_time": "2025-04-30T03:03:22.577237Z"
    }
   },
   "cell_type": "code",
   "source": [
    "# 仿射变换\n",
    "affine = nn.Linear(d_model, 2 * d_model, bias=False)  # 输入3维，输出6维\n",
    "print(f\"仿射变换的参数: \\n{affine.weight.detach().numpy()}\")\n",
    "print(f\"仿射变换的偏置: \\n{affine.bias}\")\n",
    "x_in = torch.randn(seq_len, d_model)\n",
    "x_out = affine(x_in)\n",
    "print(f\"仿射变换的输出: \\n{x_out.detach().numpy()}\")"
   ],
   "id": "607bb16ed425e400",
   "outputs": [
    {
     "name": "stdout",
     "output_type": "stream",
     "text": [
      "仿射变换的参数: \n",
      "[[ 0.09462309  0.14278811 -0.13938218]\n",
      " [-0.07240725  0.05697745 -0.28411332]\n",
      " [-0.34175146  0.2998852  -0.3585627 ]\n",
      " [ 0.37633288 -0.45240918 -0.14626577]\n",
      " [ 0.37369865  0.5198997  -0.05909109]\n",
      " [ 0.09857512 -0.14968792 -0.38849717]]\n",
      "仿射变换的偏置: \n",
      "None\n",
      "仿射变换的输出: \n",
      "[[ 0.00445703  0.26982287  0.70757085 -0.49577072 -0.2815076   0.06644682]\n",
      " [-0.3096938  -0.09524789 -1.0542555   1.831219   -1.3346671   0.7598453 ]\n",
      " [ 0.10411814  0.22760741  0.12531304  0.4260156  -0.04005839  0.45777068]\n",
      " [-0.33386952 -0.42516574 -0.519474   -0.19469433 -0.5449988  -0.5710819 ]\n",
      " [ 0.28651223  0.50648236  0.6442523   0.23408063  0.24772479  0.68026894]\n",
      " [ 0.17510037  0.40755725  1.3440962  -1.3440317   0.29801944 -0.18057963]\n",
      " [-0.09313991 -0.05039303 -0.26036248  0.37601334 -0.33557263  0.12125733]\n",
      " [ 0.13883959  0.32704493  0.03142339  0.8973393  -0.15197322  0.79305166]\n",
      " [-0.28619874 -0.09947865  0.02819148 -0.23423627 -0.84119153 -0.2251691 ]\n",
      " [-0.4055633  -0.24186707 -0.54873335  0.46400195 -1.1997416  -0.0540782 ]]\n"
     ]
    }
   ],
   "execution_count": 18
  },
  {
   "metadata": {
    "ExecuteTime": {
     "end_time": "2025-04-30T03:08:58.010569Z",
     "start_time": "2025-04-30T03:08:58.006353Z"
    }
   },
   "cell_type": "code",
   "source": [
    "# 手动计算线性变换\n",
    "x_out_manual = x_in.matmul(affine.weight.t())\n",
    "torch.equal(x_out, x_out_manual)"
   ],
   "id": "b82af46a3ef17bd6",
   "outputs": [
    {
     "data": {
      "text/plain": [
       "True"
      ]
     },
     "execution_count": 26,
     "metadata": {},
     "output_type": "execute_result"
    }
   ],
   "execution_count": 26
  },
  {
   "metadata": {},
   "cell_type": "code",
   "outputs": [],
   "execution_count": null,
   "source": "",
   "id": "7b11206ae1d0c04e"
  }
 ],
 "metadata": {
  "kernelspec": {
   "display_name": "Python 3",
   "language": "python",
   "name": "python3"
  },
  "language_info": {
   "codemirror_mode": {
    "name": "ipython",
    "version": 2
   },
   "file_extension": ".py",
   "mimetype": "text/x-python",
   "name": "python",
   "nbconvert_exporter": "python",
   "pygments_lexer": "ipython2",
   "version": "2.7.6"
  }
 },
 "nbformat": 4,
 "nbformat_minor": 5
}
