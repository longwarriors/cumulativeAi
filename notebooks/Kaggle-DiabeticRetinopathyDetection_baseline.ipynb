{
 "cells": [
  {
   "cell_type": "code",
   "id": "initial_id",
   "metadata": {
    "collapsed": true,
    "ExecuteTime": {
     "end_time": "2025-04-01T09:43:13.365268Z",
     "start_time": "2025-04-01T09:43:09.463587Z"
    }
   },
   "source": [
    "# https://www.kaggle.com/c/diabetic-retinopathy-detection/discussion/242755\n",
    "# https://github.com/aladdinpersson/Machine-Learning-Collection/tree/master/ML/Kaggles/DiabeticRetinopathy\n",
    "# https://www.youtube.com/watch?v=YxQYvhap3kE&list=PLhhyoLH6IjfxkVb3Yx4mjLdwMWP5S_Hct\n",
    "\n",
    "import torch\n",
    "from torch.utils.data import DataLoader, Dataset\n",
    "import albumentations as A\n",
    "from albumentations.pytorch import ToTensorV2\n",
    "import os\n",
    "import pandas as pd\n",
    "import numpy as np\n",
    "from PIL import Image\n",
    "from tqdm import tqdm"
   ],
   "outputs": [],
   "execution_count": 1
  },
  {
   "metadata": {
    "ExecuteTime": {
     "end_time": "2025-03-31T16:17:31.608092Z",
     "start_time": "2025-03-31T16:17:31.547135Z"
    }
   },
   "cell_type": "code",
   "source": [
    "# Configurations\n",
    "DEVICE = torch.device(\"cuda:0\" if torch.cuda.is_available() else \"cpu\")\n",
    "LEARNING_RATE = 1e-4\n",
    "WEIGHT_DECAY = 5e-4\n",
    "BATCH_SIZE = 128\n",
    "NUM_EPOCHS = 120\n",
    "NUM_WORKERS = 6\n",
    "PIN_MEMORY = True\n",
    "LOAD_MODEL = True\n",
    "SAVE_MODEL = True\n",
    "CHECKPOINT_FILE = \"diabetic_retinopathy_detection.pth.tar\"\n",
    "\n",
    "# Data augmentation for images\n",
    "train_transform = A.Compose([\n",
    "    A.Resize(width=150, height=150),\n",
    "    A.RandomCrop(width=120, height=120),\n",
    "    A.Normalize(mean=(0.3199, 0.2240, 0.1609),\n",
    "                std=(0.3020, 0.2183, 0.1741),\n",
    "                max_pixel_value=255.0),\n",
    "    ToTensorV2()\n",
    "])\n",
    "\n",
    "val_transform = A.Compose([\n",
    "    A.Resize(width=150, height=150),\n",
    "    A.Normalize(mean=(0.3199, 0.2240, 0.1609),\n",
    "                std=(0.3020, 0.2183, 0.1741),\n",
    "                max_pixel_value=255.0),\n",
    "    ToTensorV2()\n",
    "])"
   ],
   "id": "7e555e87d77cd221",
   "outputs": [],
   "execution_count": 3
  },
  {
   "metadata": {
    "ExecuteTime": {
     "end_time": "2025-03-31T16:44:36.612701Z",
     "start_time": "2025-03-31T16:44:36.599222Z"
    }
   },
   "cell_type": "code",
   "source": [
    "img_file_paths = os.listdir(\"../data/kaggle-diabetic-retinopathy-detection/train\")\n",
    "print(len(img_file_paths))\n",
    "print(img_file_paths[:5])\n",
    "img_file_paths[0].replace(\".jpeg\", \"\")"
   ],
   "id": "38543dca47fbca9f",
   "outputs": [
    {
     "name": "stdout",
     "output_type": "stream",
     "text": [
      "35126\n",
      "['10003_left.jpeg', '10003_right.jpeg', '10007_left.jpeg', '10007_right.jpeg', '10009_left.jpeg']\n"
     ]
    },
    {
     "data": {
      "text/plain": [
       "'10003_left'"
      ]
     },
     "execution_count": 12,
     "metadata": {},
     "output_type": "execute_result"
    }
   ],
   "execution_count": 12
  },
  {
   "metadata": {
    "ExecuteTime": {
     "end_time": "2025-03-31T16:34:35.920423Z",
     "start_time": "2025-03-31T16:34:35.906457Z"
    }
   },
   "cell_type": "code",
   "source": [
    "df_train = pd.read_csv(\"../data/kaggle-diabetic-retinopathy-detection/trainLabels.csv\")\n",
    "print(df_train.head())\n",
    "im, le = df_train.iloc[0]\n",
    "print(im, le)"
   ],
   "id": "182a17766768616",
   "outputs": [
    {
     "name": "stdout",
     "output_type": "stream",
     "text": [
      "      image  level\n",
      "0   10_left      0\n",
      "1  10_right      0\n",
      "2   13_left      0\n",
      "3  13_right      0\n",
      "4   15_left      1\n",
      "10_left 0\n"
     ]
    }
   ],
   "execution_count": 10
  },
  {
   "metadata": {
    "ExecuteTime": {
     "end_time": "2025-04-01T03:01:36.573274Z",
     "start_time": "2025-04-01T03:01:35.625445Z"
    }
   },
   "cell_type": "code",
   "source": [
    "import glob\n",
    "\n",
    "\n",
    "# 对高分辨率图片进行缩放\n",
    "def resize_images(input_folder, output_folder, target_size=(650, 650)):\n",
    "    # 确保输出文件夹存在\n",
    "    os.makedirs(output_folder, exist_ok=True)\n",
    "\n",
    "    # 获取支持的图片格式\n",
    "    img_extensions = [\"*.jpg\", \"*.jpeg\", \"*.png\", \"*.bmp\", \"*.tiff\"]\n",
    "    img_file_paths = []\n",
    "    for ext in img_extensions:\n",
    "        img_file_path = os.path.join(input_folder, '**', ext)\n",
    "        img_file_paths.extend(glob.glob(img_file_path, recursive=True))\n",
    "    print(f\"找到 {len(img_file_paths)} 张图片需要处理\")\n",
    "\n",
    "    # 遍历处理所有图片文件\n",
    "    for img_file_path in tqdm(img_file_paths, desc=\"Resizing images\"):\n",
    "        try:\n",
    "            # 获取相对路径\n",
    "            relative_path = os.path.relpath(img_file_path, input_folder)\n",
    "            output_file_path = os.path.join(output_folder, relative_path)\n",
    "\n",
    "            # 确保输出文件夹存在\n",
    "            os.makedirs(os.path.dirname(output_file_path), exist_ok=True)\n",
    "\n",
    "            # 打开图片\n",
    "            with Image.open(img_file_path) as img:\n",
    "                # 使用高质量的LANCZOS重采样算法\n",
    "                resized_img = img.resize(target_size, Image.LANCZOS)\n",
    "                # 保存图片\n",
    "                resized_img.save(output_file_path, quality=95)\n",
    "        except Exception as e:\n",
    "            print(f\"处理图片 {img_file_path} 时出错: {str(e)}\")\n",
    "\n",
    "    print(\"图片调整完成!\")\n",
    "\n",
    "\n",
    "samples = r'../data/kaggle-diabetic-retinopathy-detection/sample'\n",
    "# 创建输出文件夹\n",
    "samples_output = os.path.join(samples, 'resized')\n",
    "resize_images(samples, samples_output, target_size=(150, 150))\n",
    "print(f\"所有图片处理完成！调整后的图片已保存至: {samples_output}\")"
   ],
   "id": "644c79eb08666e58",
   "outputs": [
    {
     "name": "stdout",
     "output_type": "stream",
     "text": [
      "找到 10 张图片需要处理\n"
     ]
    },
    {
     "name": "stderr",
     "output_type": "stream",
     "text": [
      "Resizing images: 100%|██████████| 10/10 [00:00<00:00, 10.72it/s]"
     ]
    },
    {
     "name": "stdout",
     "output_type": "stream",
     "text": [
      "图片调整完成!\n",
      "所有图片处理完成！调整后的图片已保存至: ../data/kaggle-diabetic-retinopathy-detection/sample\\resized\n"
     ]
    },
    {
     "name": "stderr",
     "output_type": "stream",
     "text": [
      "\n"
     ]
    }
   ],
   "execution_count": 3
  },
  {
   "metadata": {
    "ExecuteTime": {
     "end_time": "2025-04-01T04:11:21.248863Z",
     "start_time": "2025-04-01T03:22:39.255791Z"
    }
   },
   "cell_type": "code",
   "source": [
    "train_images_folder = r\"../data/kaggle-diabetic-retinopathy-detection/train\"\n",
    "resized_train_images_folder = os.path.join(train_images_folder, 'images_resized_650')\n",
    "resize_images(train_images_folder, resized_train_images_folder, target_size=(650, 650))\n",
    "print(f\"所有图片处理完成！调整后的图片已保存至: {resized_train_images_folder}\")"
   ],
   "id": "ae2e663429e5fc25",
   "outputs": [
    {
     "name": "stdout",
     "output_type": "stream",
     "text": [
      "找到 35126 张图片需要处理\n"
     ]
    },
    {
     "name": "stderr",
     "output_type": "stream",
     "text": [
      "Resizing images: 100%|██████████| 35126/35126 [48:41<00:00, 12.02it/s] "
     ]
    },
    {
     "name": "stdout",
     "output_type": "stream",
     "text": [
      "图片调整完成!\n",
      "所有图片处理完成！调整后的图片已保存至: ../data/kaggle-diabetic-retinopathy-detection/train\\images_resized_650\n"
     ]
    },
    {
     "name": "stderr",
     "output_type": "stream",
     "text": [
      "\n"
     ]
    }
   ],
   "execution_count": 4
  },
  {
   "metadata": {},
   "cell_type": "code",
   "outputs": [],
   "execution_count": null,
   "source": "",
   "id": "923d06d3a64688ff"
  },
  {
   "metadata": {
    "jupyter": {
     "is_executing": true
    },
    "ExecuteTime": {
     "start_time": "2025-03-31T16:59:09.362054Z"
    }
   },
   "cell_type": "code",
   "source": [
    "class DRDataset(Dataset):\n",
    "    def __init__(self,\n",
    "                 image_folder: str,\n",
    "                 csv_file_path: str,\n",
    "                 train=True,\n",
    "                 transform=None):\n",
    "        super().__init__()\n",
    "        self.df = pd.read_csv(csv_file_path)\n",
    "        self.image_folder = image_folder\n",
    "        self.image_file_names = os.listdir(self.image_folder)  # ['10003_left.jpeg', '10003_right.jpeg']\n",
    "        self.train = train\n",
    "        self.transform = transform\n",
    "\n",
    "    def __len__(self):\n",
    "        return len(self.df) if self.train else len(self.image_file_names)\n",
    "\n",
    "    def __getitem__(self, idx):\n",
    "        if self.train:\n",
    "            image_name, label = self.df.iloc[idx]\n",
    "        else:\n",
    "            # return -1 for test label\n",
    "            label = -1\n",
    "            image_file_name = self.image_file_names[idx]\n",
    "            image_name = image_file_name.replace(\".jpeg\", \"\")\n",
    "        image_file_path = os.path.join(self.image_folder, image_name + \".jpeg\")\n",
    "        image = np.array(Image.open(image_file_path))\n",
    "\n",
    "        if self.transform:\n",
    "            image = self.transform(image)[\"image\"]\n",
    "\n",
    "        return image, label, image_name\n",
    "\n",
    "\n",
    "dataset = DRDataset(image_folder=r\"../data/kaggle-diabetic-retinopathy-detection/train\",\n",
    "                    csv_file_path=r\"../data/kaggle-diabetic-retinopathy-detection/trainLabels.csv\",\n",
    "                    transform=train_transform)\n",
    "\n",
    "loader = DataLoader(dataset, batch_size=32, num_workers=2, shuffle=True, pin_memory=True)\n",
    "for X, y, name in tqdm(loader):\n",
    "    print(X.shape, y.shape, name)\n",
    "    import sys\n",
    "\n",
    "    sys.exit()"
   ],
   "id": "66b32b8c188d8020",
   "outputs": [
    {
     "name": "stderr",
     "output_type": "stream",
     "text": [
      "  0%|          | 0/1098 [00:00<?, ?it/s]"
     ]
    }
   ],
   "execution_count": null
  },
  {
   "metadata": {
    "ExecuteTime": {
     "end_time": "2025-04-01T09:43:59.775367Z",
     "start_time": "2025-04-01T09:43:59.769629Z"
    }
   },
   "cell_type": "code",
   "source": "51786.5 / 1886.05",
   "id": "7aae874483c67113",
   "outputs": [
    {
     "data": {
      "text/plain": [
       "27.457649585111742"
      ]
     },
     "execution_count": 2,
     "metadata": {},
     "output_type": "execute_result"
    }
   ],
   "execution_count": 2
  },
  {
   "metadata": {
    "ExecuteTime": {
     "end_time": "2025-04-02T10:06:56.670860Z",
     "start_time": "2025-04-02T10:06:52.772841Z"
    }
   },
   "cell_type": "code",
   "source": [
    "from utils import trim, fast_resize_images\n",
    "from PIL import Image\n",
    "\n",
    "image_original = Image.open(r\"../data/kaggle-diabetic-retinopathy-detection/train/10003_left.jpeg\")\n",
    "image_original.show()\n",
    "image_trimmed = trim(image_original)\n",
    "image_trimmed.show()"
   ],
   "id": "ddc85bbb380f6b88",
   "outputs": [],
   "execution_count": 2
  },
  {
   "metadata": {
    "ExecuteTime": {
     "end_time": "2025-04-02T10:42:38.521005Z",
     "start_time": "2025-04-02T10:20:27.050620Z"
    }
   },
   "cell_type": "code",
   "source": [
    "from utils.preprocess_images import fast_resize_images\n",
    "import os\n",
    "train_images_folder = r\"../data/kaggle-diabetic-retinopathy-detection/train\"\n",
    "resized_train_images_folder = os.path.join(train_images_folder, 'images_resized_150')\n",
    "fast_resize_images(train_images_folder, resized_train_images_folder, output_size=(150, 150))"
   ],
   "id": "a5644c87a9e27c5a",
   "outputs": [
    {
     "name": "stdout",
     "output_type": "stream",
     "text": [
      "找到 70252 张图片需要处理\n",
      "使用 24 个CPU核心进行处理\n"
     ]
    },
    {
     "name": "stderr",
     "output_type": "stream",
     "text": [
      "100%|██████████| 70252/70252 [22:10<00:00, 52.79it/s]"
     ]
    },
    {
     "name": "stdout",
     "output_type": "stream",
     "text": [
      "处理完成! 结果保存在 ../data/kaggle-diabetic-retinopathy-detection/train\\images_resized_150\n"
     ]
    },
    {
     "name": "stderr",
     "output_type": "stream",
     "text": [
      "\n"
     ]
    }
   ],
   "execution_count": 7
  },
  {
   "metadata": {},
   "cell_type": "code",
   "outputs": [],
   "execution_count": null,
   "source": "",
   "id": "f8a34411ca87d969"
  }
 ],
 "metadata": {
  "kernelspec": {
   "display_name": "Python 3",
   "language": "python",
   "name": "python3"
  },
  "language_info": {
   "codemirror_mode": {
    "name": "ipython",
    "version": 2
   },
   "file_extension": ".py",
   "mimetype": "text/x-python",
   "name": "python",
   "nbconvert_exporter": "python",
   "pygments_lexer": "ipython2",
   "version": "2.7.6"
  }
 },
 "nbformat": 4,
 "nbformat_minor": 5
}
