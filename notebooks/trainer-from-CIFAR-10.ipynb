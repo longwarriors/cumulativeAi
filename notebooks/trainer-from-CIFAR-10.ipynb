{
 "cells": [
  {
   "cell_type": "code",
   "id": "initial_id",
   "metadata": {
    "collapsed": true,
    "ExecuteTime": {
     "end_time": "2025-04-04T08:56:40.471317Z",
     "start_time": "2025-04-04T08:56:39.789866Z"
    }
   },
   "source": [
    "# 优秀的训练函数\n",
    "# 参数初始化、动态修改学习率、优化器选择\n",
    "# https://www.zhihu.com/question/523869554/answer/2560312612\n",
    "import torch\n",
    "from torch import nn, optim\n",
    "from torch.optim.lr_scheduler import CosineAnnealingLR\n",
    "from torch.utils.data import DataLoader\n",
    "from torchinfo import summary\n",
    "import torchvision\n",
    "from torchvision import datasets, transforms\n",
    "from matplotlib import pyplot as plt\n",
    "from tqdm import tqdm\n",
    "import numpy as np\n",
    "\n",
    "\n",
    "def get_dataloader(batch_size):\n",
    "    transform = {\n",
    "        'train': transforms.Compose([transforms.RandomResizedCrop(224),\n",
    "                                     transforms.RandomHorizontalFlip(),\n",
    "                                     transforms.ToTensor(),\n",
    "                                     transforms.Normalize([0.485, 0.456, 0.406], [0.229, 0.224, 0.225]), ]),\n",
    "        'valid': transforms.Compose([transforms.Resize(256),\n",
    "                                     transforms.CenterCrop(224),\n",
    "                                     transforms.ToTensor(),\n",
    "                                     transforms.Normalize([0.485, 0.456, 0.406], [0.229, 0.224, 0.225]), ])\n",
    "    }\n",
    "    train_ds = datasets.CIFAR10(root='../data', train=True, download=False, transform=transform['train'])\n",
    "    test_ds = datasets.CIFAR10(root='../data', train=False, download=False, transform=transform['valid'])\n",
    "    class_to_idx = train_ds.class_to_idx\n",
    "    class_names = train_ds.classes\n",
    "    print(f'分类标签为：{class_to_idx}')\n",
    "    print(f'训练集数据量：{len(train_ds)}')\n",
    "    print(f'测试集数据量: {len(test_ds)}')\n",
    "    train_loader = DataLoader(train_ds, batch_size=batch_size, shuffle=True)\n",
    "    test_loader = DataLoader(test_ds, batch_size=batch_size, shuffle=True)\n",
    "    return class_to_idx, class_names, train_loader, test_loader\n",
    "\n",
    "\n",
    "class2int, classes, train_dl, test_dl = get_dataloader(batch_size=64)"
   ],
   "outputs": [
    {
     "name": "stdout",
     "output_type": "stream",
     "text": [
      "分类标签为：{'airplane': 0, 'automobile': 1, 'bird': 2, 'cat': 3, 'deer': 4, 'dog': 5, 'frog': 6, 'horse': 7, 'ship': 8, 'truck': 9}\n",
      "训练集数据量：50000\n",
      "测试集数据量: 10000\n"
     ]
    }
   ],
   "execution_count": 4
  },
  {
   "metadata": {},
   "cell_type": "code",
   "outputs": [],
   "execution_count": null,
   "source": [
    "def draw_example(dataloader):\n",
    "    #展示dataloader里的6张图片\n",
    "    device = torch.device('cuda' if torch.cuda.is_available() else 'cpu')"
   ],
   "id": "4dc9091537a2fde9"
  },
  {
   "metadata": {},
   "cell_type": "code",
   "outputs": [],
   "execution_count": null,
   "source": [
    "def train(net,\n",
    "          device,\n",
    "          train_loader,\n",
    "          valid_loader,\n",
    "          batch_size,\n",
    "          max_epoch,\n",
    "          lr,\n",
    "          lr_min,\n",
    "          criterion,\n",
    "          optimizer_type='sgd',\n",
    "          scheduler_type='cosine',\n",
    "          init=True):\n",
    "    def init_xavier(m):\n",
    "        if type(m) == nn.Linear or type(m) == nn.Conv2d:\n",
    "            nn.init.xavier_uniform_(m.weight)\n",
    "\n",
    "    if init:\n",
    "        net.apply(init_xavier)\n",
    "    print(f'Training on device: {device}')\n",
    "    net.to(device)\n",
    "\n",
    "    if optimizer_type == 'sgd':\n",
    "        optimizer = optim.SGD(net.parameters(), lr=lr, momentum=0.9)"
   ],
   "id": "5150ca997809314f"
  }
 ],
 "metadata": {
  "kernelspec": {
   "display_name": "Python 3",
   "language": "python",
   "name": "python3"
  },
  "language_info": {
   "codemirror_mode": {
    "name": "ipython",
    "version": 2
   },
   "file_extension": ".py",
   "mimetype": "text/x-python",
   "name": "python",
   "nbconvert_exporter": "python",
   "pygments_lexer": "ipython2",
   "version": "2.7.6"
  }
 },
 "nbformat": 4,
 "nbformat_minor": 5
}
