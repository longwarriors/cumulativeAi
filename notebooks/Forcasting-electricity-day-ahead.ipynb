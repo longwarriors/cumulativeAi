{
 "cells": [
  {
   "cell_type": "code",
   "id": "initial_id",
   "metadata": {
    "collapsed": true,
    "ExecuteTime": {
     "end_time": "2025-08-29T09:54:42.060463Z",
     "start_time": "2025-08-29T09:54:41.307624Z"
    }
   },
   "source": [
    "# https://www.kaggle.com/datasets/pythonafroz/day-ahead-spot-price-of-electricity\n",
    "# https://data.open-power-system-data.org/time_series/\n",
    "# https://gemini.google.com/app/6749374bfe64a79f\n",
    "# https://claude.ai/chat/d5702c9d-c809-472d-a60a-e7408487e67e\n",
    "import os, sys\n",
    "import pandas as pd\n",
    "import numpy as np\n",
    "import matplotlib.pyplot as plt\n",
    "import seaborn as sns\n",
    "from datetime import datetime\n",
    "import warnings\n",
    "warnings.filterwarnings('ignore')\n",
    "sns.set(rc={'axes.facecolor':\"Beige\", 'axes.grid':False})\n",
    "\n",
    "DATA_DIR = '../data/Day-ahead-spot-price-of-electricity-solar-generation-wind-onshore-generation/'\n",
    "df_single = pd.read_csv(os.path.join(DATA_DIR, 'time_series_15min_singleindex.csv'))\n",
    "df_single.info()"
   ],
   "outputs": [
    {
     "name": "stdout",
     "output_type": "stream",
     "text": [
      "<class 'pandas.core.frame.DataFrame'>\n",
      "RangeIndex: 201604 entries, 0 to 201603\n",
      "Data columns (total 61 columns):\n",
      " #   Column                                           Non-Null Count   Dtype  \n",
      "---  ------                                           --------------   -----  \n",
      " 0   utc_timestamp                                    201604 non-null  object \n",
      " 1   cet_cest_timestamp                               201604 non-null  object \n",
      " 2   AT_load_actual_entsoe_transparency               201598 non-null  float64\n",
      " 3   AT_load_forecast_entsoe_transparency             201598 non-null  float64\n",
      " 4   AT_price_day_ahead                               131378 non-null  float64\n",
      " 5   AT_solar_generation_actual                       201352 non-null  float64\n",
      " 6   AT_wind_onshore_generation_actual                201406 non-null  float64\n",
      " 7   BE_load_actual_entsoe_transparency               201598 non-null  float64\n",
      " 8   BE_load_forecast_entsoe_transparency             201502 non-null  float64\n",
      " 9   DE_load_actual_entsoe_transparency               201598 non-null  float64\n",
      " 10  DE_load_forecast_entsoe_transparency             201502 non-null  float64\n",
      " 11  DE_solar_capacity                                175199 non-null  float64\n",
      " 12  DE_solar_generation_actual                       201184 non-null  float64\n",
      " 13  DE_solar_profile                                 174783 non-null  float64\n",
      " 14  DE_wind_capacity                                 175199 non-null  float64\n",
      " 15  DE_wind_generation_actual                        201300 non-null  float64\n",
      " 16  DE_wind_profile                                  174897 non-null  float64\n",
      " 17  DE_wind_offshore_capacity                        175199 non-null  float64\n",
      " 18  DE_wind_offshore_generation_actual               201300 non-null  float64\n",
      " 19  DE_wind_offshore_profile                         174897 non-null  float64\n",
      " 20  DE_wind_onshore_capacity                         175199 non-null  float64\n",
      " 21  DE_wind_onshore_generation_actual                201310 non-null  float64\n",
      " 22  DE_wind_onshore_profile                          174907 non-null  float64\n",
      " 23  DE_50hertz_load_actual_entsoe_transparency       201598 non-null  float64\n",
      " 24  DE_50hertz_load_forecast_entsoe_transparency     201598 non-null  float64\n",
      " 25  DE_50hertz_solar_generation_actual               201541 non-null  float64\n",
      " 26  DE_50hertz_wind_generation_actual                201598 non-null  float64\n",
      " 27  DE_50hertz_wind_offshore_generation_actual       201598 non-null  float64\n",
      " 28  DE_50hertz_wind_onshore_generation_actual        201598 non-null  float64\n",
      " 29  DE_LU_load_actual_entsoe_transparency            70095 non-null   float64\n",
      " 30  DE_LU_load_forecast_entsoe_transparency          66622 non-null   float64\n",
      " 31  DE_LU_solar_generation_actual                    70153 non-null   float64\n",
      " 32  DE_LU_wind_generation_actual                     70182 non-null   float64\n",
      " 33  DE_LU_wind_offshore_generation_actual            70182 non-null   float64\n",
      " 34  DE_LU_wind_onshore_generation_actual             70182 non-null   float64\n",
      " 35  DE_amprion_load_actual_entsoe_transparency       201598 non-null  float64\n",
      " 36  DE_amprion_load_forecast_entsoe_transparency     201598 non-null  float64\n",
      " 37  DE_amprion_solar_generation_actual               201544 non-null  float64\n",
      " 38  DE_amprion_wind_onshore_generation_actual        201598 non-null  float64\n",
      " 39  DE_tennet_load_actual_entsoe_transparency        201598 non-null  float64\n",
      " 40  DE_tennet_load_forecast_entsoe_transparency      201598 non-null  float64\n",
      " 41  DE_tennet_solar_generation_actual                201568 non-null  float64\n",
      " 42  DE_tennet_wind_generation_actual                 201598 non-null  float64\n",
      " 43  DE_tennet_wind_offshore_generation_actual        201598 non-null  float64\n",
      " 44  DE_tennet_wind_onshore_generation_actual         201598 non-null  float64\n",
      " 45  DE_transnetbw_load_actual_entsoe_transparency    201598 non-null  float64\n",
      " 46  DE_transnetbw_load_forecast_entsoe_transparency  201502 non-null  float64\n",
      " 47  DE_transnetbw_solar_generation_actual            201542 non-null  float64\n",
      " 48  DE_transnetbw_wind_onshore_generation_actual     201598 non-null  float64\n",
      " 49  HU_load_actual_entsoe_transparency               201598 non-null  float64\n",
      " 50  HU_load_forecast_entsoe_transparency             201410 non-null  float64\n",
      " 51  HU_solar_generation_actual                       35859 non-null   float64\n",
      " 52  HU_wind_onshore_generation_actual                193021 non-null  float64\n",
      " 53  LU_load_actual_entsoe_transparency               198794 non-null  float64\n",
      " 54  LU_load_forecast_entsoe_transparency             197182 non-null  float64\n",
      " 55  NL_load_actual_entsoe_transparency               201598 non-null  float64\n",
      " 56  NL_load_forecast_entsoe_transparency             201598 non-null  float64\n",
      " 57  NL_solar_generation_actual                       181382 non-null  float64\n",
      " 58  NL_wind_generation_actual                        193733 non-null  float64\n",
      " 59  NL_wind_offshore_generation_actual               193733 non-null  float64\n",
      " 60  NL_wind_onshore_generation_actual                200901 non-null  float64\n",
      "dtypes: float64(59), object(2)\n",
      "memory usage: 93.8+ MB\n"
     ]
    }
   ],
   "execution_count": 3
  },
  {
   "metadata": {},
   "cell_type": "code",
   "outputs": [],
   "execution_count": null,
   "source": "",
   "id": "b19cbd457419c787"
  }
 ],
 "metadata": {
  "kernelspec": {
   "display_name": "Python 3",
   "language": "python",
   "name": "python3"
  },
  "language_info": {
   "codemirror_mode": {
    "name": "ipython",
    "version": 2
   },
   "file_extension": ".py",
   "mimetype": "text/x-python",
   "name": "python",
   "nbconvert_exporter": "python",
   "pygments_lexer": "ipython2",
   "version": "2.7.6"
  }
 },
 "nbformat": 4,
 "nbformat_minor": 5
}
