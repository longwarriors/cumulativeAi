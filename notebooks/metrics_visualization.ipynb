{
 "cells": [
  {
   "cell_type": "code",
   "execution_count": null,
   "id": "initial_id",
   "metadata": {
    "collapsed": true
   },
   "outputs": [],
   "source": [
    "import torch\n",
    "from torch.utils.data import DataLoader, Dataset\n",
    "\n",
    "\n",
    "class MetricsEvaluationVisualization:\n",
    "    \"\"\"\n",
    "    PyTorch深度学习模型性能指标评估与可视化模块\n",
    "    用于输出模型指标（Accuracy、Precision、Recall、F1-score），\n",
    "    并绘制混淆矩阵与特征分布图，强化模型理解与诊断能力。\n",
    "    \"\"\"\n",
    "\n",
    "    def __init__(self,\n",
    "                 model,\n",
    "                 test_loader: DataLoader,\n",
    "                 device=None,\n",
    "                 class_names=None,\n",
    "                 loss_fn=None,\n",
    "                 train_history=None,\n",
    "                 valid_history=None):\n",
    "        \"\"\"\n",
    "        :param model: 训练好的机器学习模型\n",
    "        :param test_loader: 测试数据加载器\n",
    "        :param device: 'cpu'或'cuda'\n",
    "        :param class_names: 类别名称列表（可选）\n",
    "        :param loss_fn: 损失函数（可选，用于计算测试损失）\n",
    "        :param train_history: 训练过程中的指标记录（可选，用于绘制训练曲线）\n",
    "        :param valid_history: 验证过程中的指标记录（可选，用于绘制训练曲线）\n",
    "        \"\"\"\n",
    "        if device is None:\n",
    "            self.device = torch.device('cuda' if torch.cuda.is_available() else 'cpu')\n",
    "        else:\n",
    "            self.device = device\n",
    "        self.model = model.to(self.device)\n",
    "        self._check_mode()\n",
    "        self.test_loader = test_loader\n",
    "        self.loss_fn = loss_fn\n",
    "        self.categories = class_names\n",
    "        self.train_history = train_history\n",
    "        self.valid_history = valid_history\n",
    "\n",
    "        # 用于存储评估结果\n",
    "        self.y_true = []\n",
    "        self.y_pred = []\n",
    "        self.y_score = []\n",
    "        self.test_loss: float = 0.0\n",
    "\n",
    "    def _check_mode(self):\n",
    "        \"\"\"确保模型处于评估模式\"\"\"\n",
    "        if self.model.training:\n",
    "            print(\"模型处于训练模式，切换到评估模式\")\n",
    "            self.model.eval()\n",
    "        else:\n",
    "            print(\"模型已处于评估模式\")\n",
    "            self.model.eval()\n",
    "\n",
    "    def evaluate(self, return_outputs=False):\n",
    "        \"\"\"\n",
    "        评估模型性能指标\n",
    "        :param return_outputs: 是否返回所有预测的结果\n",
    "        :return:evaluation_metrics: 评估指标字典\n",
    "        :return:(可选) outputs: 包含真实标签、预测标签和预测概率的元组\n",
    "        \"\"\"\n"
   ]
  }
 ],
 "metadata": {
  "kernelspec": {
   "display_name": "Python 3",
   "language": "python",
   "name": "python3"
  },
  "language_info": {
   "codemirror_mode": {
    "name": "ipython",
    "version": 2
   },
   "file_extension": ".py",
   "mimetype": "text/x-python",
   "name": "python",
   "nbconvert_exporter": "python",
   "pygments_lexer": "ipython2",
   "version": "2.7.6"
  }
 },
 "nbformat": 4,
 "nbformat_minor": 5
}
