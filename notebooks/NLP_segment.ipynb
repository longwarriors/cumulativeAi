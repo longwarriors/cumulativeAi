{
 "cells": [
  {
   "cell_type": "code",
   "id": "initial_id",
   "metadata": {
    "collapsed": true,
    "ExecuteTime": {
     "end_time": "2025-07-08T03:30:37.084182Z",
     "start_time": "2025-07-08T03:30:37.079801Z"
    }
   },
   "source": [
    "# jieba+NLTK分词\n",
    "import string\n",
    "string.punctuation # 标点符号"
   ],
   "outputs": [
    {
     "data": {
      "text/plain": [
       "'!\"#$%&\\'()*+,-./:;<=>?@[\\\\]^_`{|}~'"
      ]
     },
     "execution_count": 1,
     "metadata": {},
     "output_type": "execute_result"
    }
   ],
   "execution_count": 1
  },
  {
   "metadata": {
    "ExecuteTime": {
     "end_time": "2025-07-08T06:19:07.810337Z",
     "start_time": "2025-07-08T06:19:07.802962Z"
    }
   },
   "cell_type": "code",
   "source": [
    "sentence = \"Police 'waited too long': Families demand accountability!\"\n",
    "punctuation_free = sentence.translate(str.maketrans('', '', string.punctuation))\n",
    "print(punctuation_free)"
   ],
   "id": "96fedc1b33d63f90",
   "outputs": [
    {
     "name": "stdout",
     "output_type": "stream",
     "text": [
      "Police waited too long Families demand accountability\n"
     ]
    }
   ],
   "execution_count": 3
  },
  {
   "metadata": {
    "ExecuteTime": {
     "end_time": "2025-07-08T06:20:36.222547Z",
     "start_time": "2025-07-08T06:20:35.083698Z"
    }
   },
   "cell_type": "code",
   "source": [
    "from transformers import AutoTokenizer, AutoModel\n",
    "tokenizer = AutoTokenizer.from_pretrained(\"bert-base-uncased\")\n",
    "model = AutoModel.from_pretrained(\"bert-base-uncased\")\n",
    "inputs = tokenizer(sentence, return_tensors=\"pt\")\n",
    "print(inputs)"
   ],
   "id": "9d12d2f38ce05d2a",
   "outputs": [
    {
     "name": "stdout",
     "output_type": "stream",
     "text": [
      "{'input_ids': tensor([[  101,  2610,  1005,  4741,  2205,  2146,  1005,  1024,  2945,  5157,\n",
      "         17842,   999,   102]]), 'token_type_ids': tensor([[0, 0, 0, 0, 0, 0, 0, 0, 0, 0, 0, 0, 0]]), 'attention_mask': tensor([[1, 1, 1, 1, 1, 1, 1, 1, 1, 1, 1, 1, 1]])}\n"
     ]
    }
   ],
   "execution_count": 5
  },
  {
   "metadata": {},
   "cell_type": "code",
   "outputs": [],
   "execution_count": null,
   "source": [
    "import torch\n",
    "from torch import nn, optim\n",
    "\n",
    "# 1. 构造词表：词 → id\n",
    "vocab = {\"[PAD]\": 0, \"[UNK]\": 1, \"police\": 2, \"waited\": 3, \"too\": 4, \"long\": 5, \"families\": 6, \"demand\": 7, \"accountability\": 8}\n",
    "vocab_size = len(vocab)"
   ],
   "id": "d11638d4bdaf3b2b"
  }
 ],
 "metadata": {
  "kernelspec": {
   "display_name": "Python 3",
   "language": "python",
   "name": "python3"
  },
  "language_info": {
   "codemirror_mode": {
    "name": "ipython",
    "version": 2
   },
   "file_extension": ".py",
   "mimetype": "text/x-python",
   "name": "python",
   "nbconvert_exporter": "python",
   "pygments_lexer": "ipython2",
   "version": "2.7.6"
  }
 },
 "nbformat": 4,
 "nbformat_minor": 5
}
